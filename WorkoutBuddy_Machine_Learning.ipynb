{
  "cells": [
    {
      "cell_type": "markdown",
      "metadata": {
        "id": "wa0NDLpJlM-p"
      },
      "source": [
        "![header-logo.svg](data:image/svg+xml;base64,PHN2ZyBpZD0iR3J1cG9fMSIgZGF0YS1uYW1lPSJHcnVwbyAxIiB4bWxucz0iaHR0cDovL3d3dy53My5vcmcvMjAwMC9zdmciIHhtbG5zOnhsaW5rPSJodHRwOi8vd3d3LnczLm9yZy8xOTk5L3hsaW5rIiB3aWR0aD0iNDM2IiBoZWlnaHQ9IjE1NCIgdmlld0JveD0iMCAwIDQzNiAxNTQiPgogIDxkZWZzPgogICAgPHN0eWxlPgogICAgICAuY2xzLTEgewogICAgICAgIGZvbnQtc2l6ZTogNDdweDsKICAgICAgICBmb250LWZhbWlseTogIkxlYWd1ZSBTcGFydGFuIjsKICAgICAgICBmb250LXdlaWdodDogNzAwOwogICAgICB9CiAgICA8L3N0eWxlPgogIDwvZGVmcz4KICA8aW1hZ2UgaWQ9ImR1bWJiZWxsXzFfVHJhY2VkXyIgZGF0YS1uYW1lPSJkdW1iYmVsbCAxIChUcmFjZWQpIiB4PSI0IiB5PSIyNCIgd2lkdGg9IjE3OCIgaGVpZ2h0PSIxMDAiIHhsaW5rOmhyZWY9ImRhdGE6aW1nL3BuZztiYXNlNjQsaVZCT1J3MEtHZ29BQUFBTlNVaEVVZ0FBQUxJQUFBQmtDQVlBQUFBaTdXcGFBQUFQaEVsRVFWUjRuTzJkQ2JBZFJSV0cvL2Z5a3J5UWhSQVFTY0NFUlNFQklSSlVJcWdnQ21FVFVBRUJDNG1BV0ZvZ2kyd0tCVUtBV0lJc2hSU1dLQ2hMV2FpNEZ3b29nbWdBZ3lJRmhCakNFc2hTUUhaZThyTEg2dkMvcW5GeVR0L2JQVDE5WitiT1YvVXFNSGZ1VEhmUHVUMm56OVlvQVhzQXVCUEFEQUJMQWF3QnNKRi95d0RNQXpBTndMVUFScGVoUXdWaEY0N1pFd0FXSk1hMGIxek5zWDhEdUIzQStIWWZyS3ljQm1CdGFwQnRmNnNBbkZIdUxrZmhMQUNySGNaMUhZQnoyMkJjY3VFTERnT2QvanV6Z3VNUmlpc3lqT3M1MVJpQ2VJd0MwSk5od00xc3MydTdESllEWXdCc3lEQ3V2UUJHRnJGam5RVm9nOFRKQUFabitQNEFBSi9KcjNtbDVTQUFIUmthM3czZytDSjJ2cXNBYlpENGtIQnNHVitMcjNLMlhzdjI3d2pnYWdEYnBzN2ZvVFZOTHpUamhNYTlDZUFTanF2Umhmc0RHTUp4dlJ6QWxxbno5MnJ6TVhUaUg4SnI3VkhMQmU0U3pyKzdnUDFxTlQ4V3h1a2VTNXNlRmM1L3FJZ2RLNnBxSWFrVlN5em5MeGFPRFFuWW5xb3dRdWpIY2t2ZnBERi9WeEhIb3FpQ0xMSEM4cGswNE9sWFlnMHdWQmlEdHgzSFBNdmFKVGRhcFNPYndkZ053RFlBdGhBK2w0UndyZU05c2l4cXFvcjB2RmRhK2lxTitWWTBqYTZnQmNUTTZPdjVnMWhPQjlYcTJPTVhXNUNObCs0cUFFY0d2dmVHZ05lcU1nTUM5RzNyQnVzUHMyRDhNNER6QUx3UWF5eGpxaFpIQUhnS3dER2VRbXdUVmtuUEsrUXJzTVZJYno4YlBoT0VlYmFIOGxsL0lsWjNZd215TVlYOWpIWklYMnlMRW9uK3VmZXFHcXl5OU1KMXpKT1lIODJ2QUx3N3hpakZFdVR6bElWR1RldXhDWEpXaGdPNElFWVBZd255Y1RsZnZ5Zm42OWZvMkJhTGlQRHNOeEZEa0VjcVhyWXJhT3Z0b01xeEZiMXpPM25jWTEyQWR0WTBqL0h1OWVPekc4eC9oL0NacGhuTlo1c3JNUVI1UitYNEl3azc1V3JHR3I5RlY2bUV6WTRzVWV2STJkRm0yeG5DUW5DRnhldTNXOTROalRValM3Z3VKRnp0eUxYVlluT0dDOGRzejJHTmNueTljbHp6dm81eWFhUVBNUVJaYzJuYVBFbzE4WEExc2RtY0hkb01ucnRiTzZ0VHdwaFlQZ2RnZjZvUUkyZ3dOL3JTUUg2dXZlSmRaOWlhWXVCajVmZ0JnSnNwNkt1NU9GL0VHSmxYR1NSMlh4TUxSNVVzZ3Z4eDJvWnpmMjNVbEFiYlc3Wi9JdlRBTE9wM1RuejJGUURmQVhBaWdMLzVkTlpYdFRESyt4OHlDbkd0V2xRUFRYZHVobEdVS2ErRm9hOGczeFRBd1pHbDB6WFZaQ2hseXhrZlFUWVJhNU5xUWFvUkNERTVUYUtNT2VHakk0OVZqdjhTd0hRcThYMGRNcXZWc3dGczc5ZW5tZ0ppczNKbzZ1SWNBTGZRVHdBNndJeGg0SU5LYnFXUnNiKzdkTjFIa0xWZnkyVEZhYkViNjFPa3lkdXRITW9oc2d1dE1ydHprZEpKaTR1SnUvMFBGeWRTaGtwVjhRa2tlb0RGWU5JTVZ1UWd5b3dzNmNackxKNDNyZU41dTVXek9FU00rZkRMQUU0RjhQNEc1NW9aNmtFQWQvQ3QxS3hkdHBNelVoZXIvY1NJcVc1VjRGYXZjbndGWlNjZEorM2NUaDhkV1JJUXJhSElHQW9ZR3hNLzhEVUFyd0c0dmdraEJzZlF4Ti9lQytBNS9uY2p6RG5QQUhpU050US84dDQyOWdad1A0Qi9BYmpVTXlTMjBUM3lZcW5sdXBMc09FOUNQb0lzRGFEbXlrU0p6R3dqbWRsd1M0WWdsM0VVeXB1VmJBeHo3RWFlay95UkhNSS9qU0djOVE4RE1BSEFGQUQvVE5saWk0enRiU1BKanZPUE5KU0wydWFSOFZuSjJuNFllVENPcytPQmdhNTlKdFdNZ1lsajNUeDJ0dklkMjRKNEgwRnYzSk96dWZtMzZOamV5dDdldkNRK09uS01OUHRleC95eUxQcWxjYTAvREdDN0J1ZTlET0JGV21XR1V2amZhem4vMHdCK3pkUXV3KzhBSEt5YzI5dWdic2RyN0dONjR0bU9FV2NUTFZHRFpjUlp4bndFdVlqVmlYejE4RzU2a3pRaFhrUTE0UzRLY3BvZFdQM3pmQUNEaE04UDQzZGhFV0p6ajgveVI2THhDck5zYmhRK042bEVwZy83ZW9TNkZoVm5HUXVsV3BScFFaZmtHbVoyUzl4T0hmUUtSWWdOY3dGY1JyMVZ5eGcrM2xJdnpkaEtQOUJrZklIeGVIMVQrY3owNGJ0TlhLT0lCSkVkSDBHV2FrNlVNUjNmR04yL0xoemZRTHYzYVE2RFBCUEFBUUNlZHJqLzd3RjhraitHWmpHQk5WY3E1MzdWNHF3cU1wTHNPQmZYOFJIa3FoUSt1VWd4UjEzQTJkZ1Y0N1g2RkUxd2pUQUNmNExub3RZVUZ2eWhjTHlqUXNXNG5XV3NUQ1d6UWpLTUlZTnBIcVQ5MkpmRmpCVjR5Zko5czZYQlVSbFg2K1pOOHJ4dy9JU1VwYVJ0OEJGazF4V2w5SHFPa1N4cWMxRWZyRHp3aXdQY2R6NnZMd256NnhSMEYzVkNZcldTWmorTWNlSkZ3eldKd3RscTRTUElyaXRLU1FlS3NicTJWZFg1bUhEc0JVY2QxOFlydFAxZVRjZkZrM1JpbU96alp3UGQ0d0hsQjJHemhXY3BrSk1GMStmdGJMVW9hcUh2dkpFS1hqOFQrSjdMNkVxK05LZSttQW5pTVVGRm1tRDVUbVhWRHA4WldiS1hsbzB4UW52bmw3QWZrbG5RNXFTSndiSUE5M0NXTVI5QmJ0V3ZPcVNKVHlvWVU4YlVxNFhDc2ZjNFhzTVcwTk1xczZxempLVlZpekZjVWUvTXdKbmhpWXpvb1l4S2FsV1F2SS9oL0xlMFNmWmorN3ZZbjZyVXZKRE1od01UKzZ5czR3OTB2ZWRNMlNwSDF5SDBkSzVnKy9zeXI1ZXlkc2JMZFBuUDZmdENVcENOQzNScW9CcTZSZUVvaDNhNGxsd3RBc09VTmtpcVU1a1kxSVNLZEIwOW5adk1wWDJxaFhHemZxOWlRdXlLNnl1NUNKU3h6YUVZUUprMXNydEprUGVpdDZqZHliMCtXUTZVMFNVZEdpTzdleGxCUGoyQWg2OEtxZjE3bHN3ODFkM0ExSllYb1dQRnM4ck9KaG51WW1KbG1sZG94TzhWRlA2SkRCbE1Vc1FWdnhud1c1WFB0dUdHTGttNjZCVXI1RDV5QWg5UmZuajNLTllNTUxBb3Evb1lKQkErZ1NRN1R6S1BjU0QxNVg2SlBMNDlCUDE1L3k3V3IwMXpMbGY4RXQ4V0JMbUk5Rm8yQVRlejJiR0NJQnhWSWtIK3ZIQnNOZCt3V24yMnlTVlpCLzJKY2laeEtqZStUREs2VTRsSkNHSFVMaktyNkJWTGMySkpIblEzaTBlbWVTem5yUlNLZ0tTSzlHL1g2RGZEYjRSalczT21Mam9uS3JVZnBENVZEWEdTN1ZRQ1NjcG9VM1hsWG1YaGNtSEJZNjQ3bGNpM05leFRPOUxkcWJ5S3BEMkxxOFpDMXVSTk03N2dzL0lYbGFDbit5eUx2Q29oVGJLck9oVTM1UHZhWUVBTU55akhyeXRvY05Rd2hvWkthSDJwR3RLZU5NdTdtTEdROWhDWjErdCtqQWpyVGMzYUUwc3lNSU9Vck9NMFBVSWc5MmdtblY2WWZ6T2RtS0xVcE82aE9URnRVa3dUNHNjWlErMDhOTFhmU1o4WmJoUnpJOU1zNkdJRnpRK25QdWhtL2xtWkdXQXBodElNMzJCZ2lsTlZ5Qnd4aWFwbktaY2Zrckd2THNTdzZ1enJhT0tkM3NrMDg5aVZmY3BBSjUwTHVXL2swZ1NtRFQrdFVPSnZTSXpzM3RUSmNEbk5jZER1aktZbG9KV1pOTWJPLzR1NnhyU0trZDBYKyt6SXhwWDdKVmE5cWZsL3pBNzN0N1Z3TnJ4VjBRdmJuVVdVMlUxaENNbVo1aWNBZnM0TTRIMVluWEt3b055UExWR2ttT1ptMXhpaEpLWk9adDJLMkl1L0s1VWk2YUFYejdYQStCRWx5ZFA4TDR2ZUpGbkpRUHNGTEszN1VOYTREK01EMzVqNmU4UnkvbVRoZkZ0NkRmaDUranMyOWVkQTRmeU5IbjB6d1NuVGxHdHRaS1dmV0Z4c2FjYzB6MXJIMHJnZVl6bi9IT0g4UnNVU3BYdE10cHovaUhDK0ZtZWhVbVVYdFUvdGpQV3MwelpQK2Z3aW12VHlIcmZMbWEwak1ZOXRySGZGU2xCbFFmYXRuVEdYUlZRMEw5blpYQURtVVNPaUgvVnhiVVphR0tqQVM1TFErWXZPZGR0QzBNNUJRemFlcDY2c3pjekhVa2NObVdvMGdwWHNUMWMrbjhjMlNhV3lzaEJxMDZDV1VtVkJ6cnJYOVV6cTN0cnNaemF5ZVlxT2lxeU1wMk5LcTZFOGwyMUpMNEJxU0tzRU9jYnJKMFJacnRuTXhKaWhmTDR0Vjg5VFBXZTJEcW9xdHYxQVpyQU5zejJ1M3paVVpVYjJzVkEweTF5KzBoOVh6dStnaGVFSkZ1MXVscDFZL2ZOR2k5djNjZDQ3cEU1Y1Nhb2l5Rkt3ZGNqaUlvdnBHTG5UY3M0RXFnZFhOUWpPNmMrdEdwNXRFTTl5SisvWlRwdFJlaE5La0Z1MUVXRWZrajVzMi92UEI1TVBkd3FEaVRUVG5uRTJYRUpkVmtwRk9vd0NmSzNGV3JDTzl6aUY5Nnc2UVdRbmxDQzNhaVBDUHBZSXg5NlNUODNNOVF4eG5XVzUwR2h1UmZaWGJ2UTRubnY0M2QvQUt6cUwxODVTYkx4c0JKR2RHS3BGakFEMXQ0Uk1sMlkybVBGbE9nWDBsZ2I2K1lGMHB6N2R3THBocnZGOVhuTjZqdTF1RmJuTGdJOGdTM1VJYkN2MkdFVlAxbkk3Z3RsTUJyaTV5YUQ2TEt6a3hwQWZiV0RiN1dnUWNQUWNhNHVjbFVQTmlLSmdrd0ZKZHB6cnBQZ0lzdVFhdGVYNHhkS2ZiMk9LMXZZVTZsZ3gxdE00azM3TDBlUzNrdCtaWUxHSVZBV2JERWl5NCt4K0Q2VmEyQVI1NjBEM0tESnJhVXZldFlGbG80KzdlZTdVQUk2YjJQaW9DVFlaQ0pMb0hHcEdIbUJ4Y216cmNZK3lNcC9XaGdsS0NPa0RUT0U1MmVMK0xqbytxcUltQTFzcU5uVG5HZGtuTmxXclFyUzNFczY1dDhjOXlzN1RESThjeTlKV0F4anJIWHFma3JLZ3lZQjIzTG5TbFk4Z2F3YjZxeGtJUHBBemZROHpyclhTcDF1MlFXbXVtY3pHYm5mR2NsT2dKNWdvdTRFMjhzdVVjWEYyQXZrSXNtWS8zWS9GNTVxbFRxU3NIclpGM1JTSDN0cHM5Q0krT3ZJc3BVSlAzZ3h2d1QzYkhkY3hEK0hjdUMrV0lCdk95RGtheThka2R5UnRzcS94TlZiUCtPVmpObVhMR1Y5Qlhzek0zbWtaaHNvbXJLN3RHa3lYOEI0TWRwL1NJRStzeGg5dEF4NWtUR3lkUnBueUNwTEtjdVA1RERFMHJ0ZURXSk5yRUlVcTZhMHhlOXJ0SW53L1pIekdPTUVzZERTQU93TGVvK1lkYkc4NmJRL3BsMUtocUd2cFBPcGxNdXZEQVA2U1pWKy9yS25oR3hoWWJxdnlidExaZnlRYzF3VFpSOENsQVpScXBOV0VvY014Qm55cVVHVStLREdDaHQ1VWptdXFoWTkrTEgybkhVcmp0Z3JOK2FVVk9OUmtJQmd4QlBrTjViaTJJdlp4Z1VxemVMdHVHRzhqUlBvWExNOW9LK1c0SmdQQmlDSEkwc2JmWUloajhoZmN5VmwwVXFENzFvSzhPYUhpT2laeDY0ZmtCTEtGSmVORms0Rmd4SGpZQzdsbmNIcGIyY3NURzFXdXlxRk9oTGJ3cU1sT2NoSGQ2Tm5OaVZGSlAxYk9YcU5OV3ZJb2RsTFRIRm5yV2pSNmRsRTI2SWtseURjRTBNOXFWU0VmYkpXR3NvNzVpbGhiUXNRUzVEbE14dXpKY0kxYVZjZ0hIN3R3TS9Ud21jK0owWW1ZNVFCTUxPN3UzTkU5ZE9la2ZsUTFiU2dMVXZaMzZHSTVjL2lNZCtjemowTHMxL1hyck9sd1BrMDF1OUtVa3piRjNTRHMzbVBUNVNTM2FiMmR4T2E0dmhHbE1YK1ZXenduV1VvdjNTd2xvejEzV3FsM0x1SG0yUkpTTmNyUVZTUGJFV2xHdGptZ3BERmZWc1FkVnN0VWFjZzFnYkVsTTBQQmtXWmsyeTVOclM2ODB6UkZGV1JKdngxcE9WK3F1VmJ2aDdJNVVwcTlMU1pGR3ZOQ3JqMkthdEtheVFxVVNjeStKdGN3SDI0NVUyVzZLTVRIQzlkNFBXNlRTOEVDb1pHSGNseWZaYUdiZFZ4ejdNa3hUMU9YdG5YZ0pNditHYzMrMWZISW15UHQ1K0w2ZDFMUk9sVmtCakpkM25ldzM2anR6aUpET0RhKzR6b3ZVdVdvU25FNDZ4dTREdlo2cGozVnlCeVpZVndQcjhmVWorTzRRR2wyc0JjeE02VEd6dEVjcTJiSDlXMCtpOEpTaGdUTlVkVHRKakp0YWxRcVVHVUpEZkhHaTNSN0UzdjQxYnlEY1VLZHlwQk00NWhLeGhLYmlEYVR5bWJTazB3dENyT1pxUG4vWWdMZ2YwMjNxbVVUeE13ZkFBQUFBRWxGVGtTdVFtQ0MiLz4KICA8dGV4dCBpZD0iV29ya291dF9CdWRkeSIgZGF0YS1uYW1lPSJXb3Jrb3V0IEJ1ZGR5IiBjbGFzcz0iY2xzLTEiIHRyYW5zZm9ybT0idHJhbnNsYXRlKDIxOC42NDcgNjIuMzk5KSI+V29ya291dDx0c3BhbiB4PSIwIiBkeT0iNTYuNCI+QnVkZHk8L3RzcGFuPjwvdGV4dD4KPC9zdmc+Cg==)\n",
        "### *Your AI buddy for your workout*"
      ]
    },
    {
      "cell_type": "markdown",
      "metadata": {
        "id": "R1oRN_iiHN_7"
      },
      "source": [
        "## Importing the dependencies\n",
        "\n",
        "The required packages are imported. If not present they will be downloaded.\n"
      ]
    },
    {
      "cell_type": "markdown",
      "source": [
        "Libraries/packages for math/machine learning"
      ],
      "metadata": {
        "id": "g_nXzsUZqu9t"
      }
    },
    {
      "cell_type": "code",
      "execution_count": 33,
      "metadata": {
        "id": "GAGi6hrzFLOb"
      },
      "outputs": [],
      "source": [
        "import numpy as np\n",
        "import pandas as pd\n",
        "import difflib  \n",
        "from sklearn.feature_extraction.text import TfidfVectorizer\n",
        "from sklearn.metrics.pairwise import cosine_similarity"
      ]
    },
    {
      "cell_type": "markdown",
      "source": [
        "Libraries/packages for Input validation"
      ],
      "metadata": {
        "id": "G6STfS4Jqz44"
      }
    },
    {
      "cell_type": "code",
      "source": [
        "!pip install pydantic\n",
        "from pydantic import BaseModel"
      ],
      "metadata": {
        "colab": {
          "base_uri": "https://localhost:8080/"
        },
        "id": "cme3qaljpcR-",
        "outputId": "a5a5ecb6-b683-4c8e-a62d-6c23ef26f865"
      },
      "execution_count": 34,
      "outputs": [
        {
          "output_type": "stream",
          "name": "stdout",
          "text": [
            "Requirement already satisfied: pydantic in /usr/local/lib/python3.7/dist-packages (1.9.0)\n",
            "Requirement already satisfied: typing-extensions>=3.7.4.3 in /usr/local/lib/python3.7/dist-packages (from pydantic) (4.1.1)\n"
          ]
        }
      ]
    },
    {
      "cell_type": "markdown",
      "source": [
        "Libraries/packages for building an API"
      ],
      "metadata": {
        "id": "Mk57Gsydq3DB"
      }
    },
    {
      "cell_type": "code",
      "source": [
        "!pip install fastapi"
      ],
      "metadata": {
        "colab": {
          "base_uri": "https://localhost:8080/"
        },
        "id": "W460EpETpYhP",
        "outputId": "ade1b011-65b1-45eb-8251-83770311c7f0"
      },
      "execution_count": 35,
      "outputs": [
        {
          "output_type": "stream",
          "name": "stdout",
          "text": [
            "Requirement already satisfied: fastapi in /usr/local/lib/python3.7/dist-packages (0.75.2)\n",
            "Requirement already satisfied: starlette==0.17.1 in /usr/local/lib/python3.7/dist-packages (from fastapi) (0.17.1)\n",
            "Requirement already satisfied: pydantic!=1.7,!=1.7.1,!=1.7.2,!=1.7.3,!=1.8,!=1.8.1,<2.0.0,>=1.6.2 in /usr/local/lib/python3.7/dist-packages (from fastapi) (1.9.0)\n",
            "Requirement already satisfied: anyio<4,>=3.0.0 in /usr/local/lib/python3.7/dist-packages (from starlette==0.17.1->fastapi) (3.5.0)\n",
            "Requirement already satisfied: typing-extensions in /usr/local/lib/python3.7/dist-packages (from starlette==0.17.1->fastapi) (4.1.1)\n",
            "Requirement already satisfied: idna>=2.8 in /usr/local/lib/python3.7/dist-packages (from anyio<4,>=3.0.0->starlette==0.17.1->fastapi) (2.10)\n",
            "Requirement already satisfied: sniffio>=1.1 in /usr/local/lib/python3.7/dist-packages (from anyio<4,>=3.0.0->starlette==0.17.1->fastapi) (1.2.0)\n"
          ]
        }
      ]
    },
    {
      "cell_type": "markdown",
      "source": [
        "Libraries/packages for serving the API (server)"
      ],
      "metadata": {
        "id": "owmJUJoMq4-F"
      }
    },
    {
      "cell_type": "code",
      "source": [
        "!pip install colabcode\n",
        "from colabcode import ColabCode"
      ],
      "metadata": {
        "colab": {
          "base_uri": "https://localhost:8080/"
        },
        "id": "YMhpWdHgog2J",
        "outputId": "a2fb9204-94f6-42bd-9dbc-0ca72c4eab07"
      },
      "execution_count": 36,
      "outputs": [
        {
          "output_type": "stream",
          "name": "stdout",
          "text": [
            "Requirement already satisfied: colabcode in /usr/local/lib/python3.7/dist-packages (0.3.0)\n",
            "Requirement already satisfied: uvicorn==0.13.1 in /usr/local/lib/python3.7/dist-packages (from colabcode) (0.13.1)\n",
            "Requirement already satisfied: nest-asyncio==1.4.3 in /usr/local/lib/python3.7/dist-packages (from colabcode) (1.4.3)\n",
            "Requirement already satisfied: pyngrok>=5.0.0 in /usr/local/lib/python3.7/dist-packages (from colabcode) (5.1.0)\n",
            "Requirement already satisfied: jupyterlab==3.0.7 in /usr/local/lib/python3.7/dist-packages (from colabcode) (3.0.7)\n",
            "Requirement already satisfied: ipython in /usr/local/lib/python3.7/dist-packages (from jupyterlab==3.0.7->colabcode) (5.5.0)\n",
            "Requirement already satisfied: jupyter-server~=1.2 in /usr/local/lib/python3.7/dist-packages (from jupyterlab==3.0.7->colabcode) (1.16.0)\n",
            "Requirement already satisfied: packaging in /usr/local/lib/python3.7/dist-packages (from jupyterlab==3.0.7->colabcode) (21.3)\n",
            "Requirement already satisfied: tornado>=6.1.0 in /usr/local/lib/python3.7/dist-packages (from jupyterlab==3.0.7->colabcode) (6.1)\n",
            "Requirement already satisfied: jupyterlab-server~=2.0 in /usr/local/lib/python3.7/dist-packages (from jupyterlab==3.0.7->colabcode) (2.12.0)\n",
            "Requirement already satisfied: jinja2>=2.10 in /usr/local/lib/python3.7/dist-packages (from jupyterlab==3.0.7->colabcode) (3.1.1)\n",
            "Requirement already satisfied: nbclassic~=0.2 in /usr/local/lib/python3.7/dist-packages (from jupyterlab==3.0.7->colabcode) (0.3.7)\n",
            "Requirement already satisfied: jupyter-core in /usr/local/lib/python3.7/dist-packages (from jupyterlab==3.0.7->colabcode) (4.9.2)\n",
            "Requirement already satisfied: click==7.* in /usr/local/lib/python3.7/dist-packages (from uvicorn==0.13.1->colabcode) (7.1.2)\n",
            "Requirement already satisfied: typing-extensions in /usr/local/lib/python3.7/dist-packages (from uvicorn==0.13.1->colabcode) (4.1.1)\n",
            "Requirement already satisfied: h11>=0.8 in /usr/local/lib/python3.7/dist-packages (from uvicorn==0.13.1->colabcode) (0.13.0)\n",
            "Requirement already satisfied: MarkupSafe>=2.0 in /usr/local/lib/python3.7/dist-packages (from jinja2>=2.10->jupyterlab==3.0.7->colabcode) (2.0.1)\n",
            "Requirement already satisfied: nbformat>=5.2.0 in /usr/local/lib/python3.7/dist-packages (from jupyter-server~=1.2->jupyterlab==3.0.7->colabcode) (5.3.0)\n",
            "Requirement already satisfied: anyio>=3.1.0 in /usr/local/lib/python3.7/dist-packages (from jupyter-server~=1.2->jupyterlab==3.0.7->colabcode) (3.5.0)\n",
            "Requirement already satisfied: terminado>=0.8.3 in /usr/local/lib/python3.7/dist-packages (from jupyter-server~=1.2->jupyterlab==3.0.7->colabcode) (0.13.3)\n",
            "Requirement already satisfied: traitlets>=5.1.0 in /usr/local/lib/python3.7/dist-packages (from jupyter-server~=1.2->jupyterlab==3.0.7->colabcode) (5.1.1)\n",
            "Requirement already satisfied: Send2Trash in /usr/local/lib/python3.7/dist-packages (from jupyter-server~=1.2->jupyterlab==3.0.7->colabcode) (1.8.0)\n",
            "Requirement already satisfied: jupyter-client>=6.1.12 in /usr/local/lib/python3.7/dist-packages (from jupyter-server~=1.2->jupyterlab==3.0.7->colabcode) (6.1.12)\n",
            "Requirement already satisfied: websocket-client in /usr/local/lib/python3.7/dist-packages (from jupyter-server~=1.2->jupyterlab==3.0.7->colabcode) (1.3.2)\n",
            "Requirement already satisfied: nbconvert>=6.4.4 in /usr/local/lib/python3.7/dist-packages (from jupyter-server~=1.2->jupyterlab==3.0.7->colabcode) (6.5.0)\n",
            "Requirement already satisfied: pyzmq>=17 in /usr/local/lib/python3.7/dist-packages (from jupyter-server~=1.2->jupyterlab==3.0.7->colabcode) (22.3.0)\n",
            "Requirement already satisfied: prometheus-client in /usr/local/lib/python3.7/dist-packages (from jupyter-server~=1.2->jupyterlab==3.0.7->colabcode) (0.14.1)\n",
            "Requirement already satisfied: argon2-cffi in /usr/local/lib/python3.7/dist-packages (from jupyter-server~=1.2->jupyterlab==3.0.7->colabcode) (21.3.0)\n",
            "Requirement already satisfied: sniffio>=1.1 in /usr/local/lib/python3.7/dist-packages (from anyio>=3.1.0->jupyter-server~=1.2->jupyterlab==3.0.7->colabcode) (1.2.0)\n",
            "Requirement already satisfied: idna>=2.8 in /usr/local/lib/python3.7/dist-packages (from anyio>=3.1.0->jupyter-server~=1.2->jupyterlab==3.0.7->colabcode) (2.10)\n",
            "Requirement already satisfied: python-dateutil>=2.1 in /usr/local/lib/python3.7/dist-packages (from jupyter-client>=6.1.12->jupyter-server~=1.2->jupyterlab==3.0.7->colabcode) (2.8.2)\n",
            "Requirement already satisfied: requests in /usr/local/lib/python3.7/dist-packages (from jupyterlab-server~=2.0->jupyterlab==3.0.7->colabcode) (2.23.0)\n",
            "Requirement already satisfied: entrypoints>=0.2.2 in /usr/local/lib/python3.7/dist-packages (from jupyterlab-server~=2.0->jupyterlab==3.0.7->colabcode) (0.4)\n",
            "Requirement already satisfied: babel in /usr/local/lib/python3.7/dist-packages (from jupyterlab-server~=2.0->jupyterlab==3.0.7->colabcode) (2.9.1)\n",
            "Requirement already satisfied: json5 in /usr/local/lib/python3.7/dist-packages (from jupyterlab-server~=2.0->jupyterlab==3.0.7->colabcode) (0.9.6)\n",
            "Requirement already satisfied: jsonschema>=3.0.1 in /usr/local/lib/python3.7/dist-packages (from jupyterlab-server~=2.0->jupyterlab==3.0.7->colabcode) (4.3.3)\n",
            "Requirement already satisfied: pyrsistent!=0.17.0,!=0.17.1,!=0.17.2,>=0.14.0 in /usr/local/lib/python3.7/dist-packages (from jsonschema>=3.0.1->jupyterlab-server~=2.0->jupyterlab==3.0.7->colabcode) (0.18.1)\n",
            "Requirement already satisfied: importlib-metadata in /usr/local/lib/python3.7/dist-packages (from jsonschema>=3.0.1->jupyterlab-server~=2.0->jupyterlab==3.0.7->colabcode) (4.11.3)\n",
            "Requirement already satisfied: importlib-resources>=1.4.0 in /usr/local/lib/python3.7/dist-packages (from jsonschema>=3.0.1->jupyterlab-server~=2.0->jupyterlab==3.0.7->colabcode) (5.6.0)\n",
            "Requirement already satisfied: attrs>=17.4.0 in /usr/local/lib/python3.7/dist-packages (from jsonschema>=3.0.1->jupyterlab-server~=2.0->jupyterlab==3.0.7->colabcode) (21.4.0)\n",
            "Requirement already satisfied: zipp>=3.1.0 in /usr/local/lib/python3.7/dist-packages (from importlib-resources>=1.4.0->jsonschema>=3.0.1->jupyterlab-server~=2.0->jupyterlab==3.0.7->colabcode) (3.8.0)\n",
            "Requirement already satisfied: notebook-shim>=0.1.0 in /usr/local/lib/python3.7/dist-packages (from nbclassic~=0.2->jupyterlab==3.0.7->colabcode) (0.1.0)\n",
            "Requirement already satisfied: notebook<7 in /usr/local/lib/python3.7/dist-packages (from nbclassic~=0.2->jupyterlab==3.0.7->colabcode) (5.3.1)\n",
            "Requirement already satisfied: bleach in /usr/local/lib/python3.7/dist-packages (from nbconvert>=6.4.4->jupyter-server~=1.2->jupyterlab==3.0.7->colabcode) (5.0.0)\n",
            "Requirement already satisfied: beautifulsoup4 in /usr/local/lib/python3.7/dist-packages (from nbconvert>=6.4.4->jupyter-server~=1.2->jupyterlab==3.0.7->colabcode) (4.6.3)\n",
            "Requirement already satisfied: pygments>=2.4.1 in /usr/local/lib/python3.7/dist-packages (from nbconvert>=6.4.4->jupyter-server~=1.2->jupyterlab==3.0.7->colabcode) (2.6.1)\n",
            "Requirement already satisfied: nbclient>=0.5.0 in /usr/local/lib/python3.7/dist-packages (from nbconvert>=6.4.4->jupyter-server~=1.2->jupyterlab==3.0.7->colabcode) (0.5.13)\n",
            "Requirement already satisfied: defusedxml in /usr/local/lib/python3.7/dist-packages (from nbconvert>=6.4.4->jupyter-server~=1.2->jupyterlab==3.0.7->colabcode) (0.7.1)\n",
            "Requirement already satisfied: pandocfilters>=1.4.1 in /usr/local/lib/python3.7/dist-packages (from nbconvert>=6.4.4->jupyter-server~=1.2->jupyterlab==3.0.7->colabcode) (1.5.0)\n",
            "Requirement already satisfied: tinycss2 in /usr/local/lib/python3.7/dist-packages (from nbconvert>=6.4.4->jupyter-server~=1.2->jupyterlab==3.0.7->colabcode) (1.1.1)\n",
            "Requirement already satisfied: jupyterlab-pygments in /usr/local/lib/python3.7/dist-packages (from nbconvert>=6.4.4->jupyter-server~=1.2->jupyterlab==3.0.7->colabcode) (0.2.1)\n",
            "Requirement already satisfied: mistune<2,>=0.8.1 in /usr/local/lib/python3.7/dist-packages (from nbconvert>=6.4.4->jupyter-server~=1.2->jupyterlab==3.0.7->colabcode) (0.8.4)\n",
            "Requirement already satisfied: fastjsonschema in /usr/local/lib/python3.7/dist-packages (from nbformat>=5.2.0->jupyter-server~=1.2->jupyterlab==3.0.7->colabcode) (2.15.3)\n",
            "Requirement already satisfied: ipython-genutils in /usr/local/lib/python3.7/dist-packages (from notebook<7->nbclassic~=0.2->jupyterlab==3.0.7->colabcode) (0.2.0)\n",
            "Requirement already satisfied: ipykernel in /usr/local/lib/python3.7/dist-packages (from notebook<7->nbclassic~=0.2->jupyterlab==3.0.7->colabcode) (4.10.1)\n",
            "Requirement already satisfied: PyYAML in /usr/local/lib/python3.7/dist-packages (from pyngrok>=5.0.0->colabcode) (3.13)\n",
            "Requirement already satisfied: six>=1.5 in /usr/local/lib/python3.7/dist-packages (from python-dateutil>=2.1->jupyter-client>=6.1.12->jupyter-server~=1.2->jupyterlab==3.0.7->colabcode) (1.15.0)\n",
            "Requirement already satisfied: ptyprocess in /usr/local/lib/python3.7/dist-packages (from terminado>=0.8.3->jupyter-server~=1.2->jupyterlab==3.0.7->colabcode) (0.7.0)\n",
            "Requirement already satisfied: argon2-cffi-bindings in /usr/local/lib/python3.7/dist-packages (from argon2-cffi->jupyter-server~=1.2->jupyterlab==3.0.7->colabcode) (21.2.0)\n",
            "Requirement already satisfied: cffi>=1.0.1 in /usr/local/lib/python3.7/dist-packages (from argon2-cffi-bindings->argon2-cffi->jupyter-server~=1.2->jupyterlab==3.0.7->colabcode) (1.15.0)\n",
            "Requirement already satisfied: pycparser in /usr/local/lib/python3.7/dist-packages (from cffi>=1.0.1->argon2-cffi-bindings->argon2-cffi->jupyter-server~=1.2->jupyterlab==3.0.7->colabcode) (2.21)\n",
            "Requirement already satisfied: pytz>=2015.7 in /usr/local/lib/python3.7/dist-packages (from babel->jupyterlab-server~=2.0->jupyterlab==3.0.7->colabcode) (2018.9)\n",
            "Requirement already satisfied: webencodings in /usr/local/lib/python3.7/dist-packages (from bleach->nbconvert>=6.4.4->jupyter-server~=1.2->jupyterlab==3.0.7->colabcode) (0.5.1)\n",
            "Requirement already satisfied: pickleshare in /usr/local/lib/python3.7/dist-packages (from ipython->jupyterlab==3.0.7->colabcode) (0.7.5)\n",
            "Requirement already satisfied: prompt-toolkit<2.0.0,>=1.0.4 in /usr/local/lib/python3.7/dist-packages (from ipython->jupyterlab==3.0.7->colabcode) (1.0.18)\n",
            "Requirement already satisfied: setuptools>=18.5 in /usr/local/lib/python3.7/dist-packages (from ipython->jupyterlab==3.0.7->colabcode) (57.4.0)\n",
            "Requirement already satisfied: decorator in /usr/local/lib/python3.7/dist-packages (from ipython->jupyterlab==3.0.7->colabcode) (4.4.2)\n",
            "Requirement already satisfied: simplegeneric>0.8 in /usr/local/lib/python3.7/dist-packages (from ipython->jupyterlab==3.0.7->colabcode) (0.8.1)\n",
            "Requirement already satisfied: pexpect in /usr/local/lib/python3.7/dist-packages (from ipython->jupyterlab==3.0.7->colabcode) (4.8.0)\n",
            "Requirement already satisfied: wcwidth in /usr/local/lib/python3.7/dist-packages (from prompt-toolkit<2.0.0,>=1.0.4->ipython->jupyterlab==3.0.7->colabcode) (0.2.5)\n",
            "Requirement already satisfied: pyparsing!=3.0.5,>=2.0.2 in /usr/local/lib/python3.7/dist-packages (from packaging->jupyterlab==3.0.7->colabcode) (3.0.8)\n",
            "Requirement already satisfied: chardet<4,>=3.0.2 in /usr/local/lib/python3.7/dist-packages (from requests->jupyterlab-server~=2.0->jupyterlab==3.0.7->colabcode) (3.0.4)\n",
            "Requirement already satisfied: certifi>=2017.4.17 in /usr/local/lib/python3.7/dist-packages (from requests->jupyterlab-server~=2.0->jupyterlab==3.0.7->colabcode) (2021.10.8)\n",
            "Requirement already satisfied: urllib3!=1.25.0,!=1.25.1,<1.26,>=1.21.1 in /usr/local/lib/python3.7/dist-packages (from requests->jupyterlab-server~=2.0->jupyterlab==3.0.7->colabcode) (1.24.3)\n"
          ]
        }
      ]
    },
    {
      "cell_type": "markdown",
      "metadata": {
        "id": "mfIW1BYVIGfP"
      },
      "source": [
        "## Data Collection and Pre-Processing"
      ]
    },
    {
      "cell_type": "code",
      "execution_count": 37,
      "metadata": {
        "id": "MOXn7CGdIGBU"
      },
      "outputs": [],
      "source": [
        "# Loading the data from the csv file to apandas dataframe\n",
        "# REMEMBER: FILE MUST BE PRESENT IN THE FILE SYSTEM\n",
        "exercise_data = pd.read_csv('convertcsv.csv')\n",
        "exercise_dataWithIdx = exercise_data\n",
        "exercise_dataWithIdx['index_col'] = exercise_dataWithIdx.index"
      ]
    },
    {
      "cell_type": "code",
      "execution_count": 38,
      "metadata": {
        "colab": {
          "base_uri": "https://localhost:8080/",
          "height": 595
        },
        "id": "cha03lDAIa6l",
        "outputId": "e2bcf460-7b52-4b69-db6a-e1cdff5829da"
      },
      "outputs": [
        {
          "output_type": "execute_result",
          "data": {
            "text/plain": [
              "      id                                  uuid                       name  \\\n",
              "0  346.0  c789d643-150a-4ac7-97ef-84643c6419bf  3 Handed Kettlebell Swing   \n",
              "1  175.0  99882bdd-43d7-4c3b-82ed-9c187d0455b7           Abductor Machine   \n",
              "2  224.0  e57d0a17-b1b8-427d-991e-97c530c7db6a           Adductor machine   \n",
              "3  229.0  881bff63-6798-4ffc-a818-b2a1ccfec0f7               Arnold Press   \n",
              "4  228.0  54ca25b3-61d9-4f72-bfdb-492b83484ff5      Arnold Shoulder Press   \n",
              "\n",
              "   exercise_base  status                                        description  \\\n",
              "0           10.0     3.0   <p>Two Handed Russian Style Kettlebell Swing</p>   \n",
              "1           13.0     NaN  <ul>\\r\\n<li>Put in an upright position with yo...   \n",
              "2           14.0     3.0                              <p>Thigh inside! </p>   \n",
              "3           21.0     3.0  <p>Hold two dumbbells, palms in in front of ch...   \n",
              "4           21.0     3.0  <p >Very common shoulder exercise.</p>\\r\\n<p> ...   \n",
              "\n",
              "  creation_date  category  equipment/0  language  ...   muscles/0  muscles/1  \\\n",
              "0   2016-08 -03      11.0         11.0       3.0  ...         NaN        NaN   \n",
              "1    2014-07-19      10.0          NaN       2.0  ...         NaN        NaN   \n",
              "2    2015-02-26      10.0          NaN       2.0  ...         NaN        NaN   \n",
              "3    2015-03-09      14.0          4.0       2.0  ...         NaN        NaN   \n",
              "4           NaN      14.0          4.0       3.0  ...         NaN        NaN   \n",
              "\n",
              "   muscles_secondary /0  license_ author  exercise_base    equipment/1  u uid  \\\n",
              "0                   NaN              NaN             NaN           NaN    NaN   \n",
              "1                   NaN              NaN             NaN           NaN    NaN   \n",
              "2                   NaN              NaN             NaN           NaN    NaN   \n",
              "3                   NaN              NaN             NaN           NaN    NaN   \n",
              "4                   NaN              NaN             NaN           NaN    NaN   \n",
              "\n",
              "   muscles /0  nam e  index_col  \n",
              "0         NaN    NaN          0  \n",
              "1         NaN    NaN          1  \n",
              "2         NaN    NaN          2  \n",
              "3         NaN    NaN          3  \n",
              "4         NaN    NaN          4  \n",
              "\n",
              "[5 rows x 80 columns]"
            ],
            "text/html": [
              "\n",
              "  <div id=\"df-799555ac-6e9c-4cda-97a5-ec6459f1b9ba\">\n",
              "    <div class=\"colab-df-container\">\n",
              "      <div>\n",
              "<style scoped>\n",
              "    .dataframe tbody tr th:only-of-type {\n",
              "        vertical-align: middle;\n",
              "    }\n",
              "\n",
              "    .dataframe tbody tr th {\n",
              "        vertical-align: top;\n",
              "    }\n",
              "\n",
              "    .dataframe thead th {\n",
              "        text-align: right;\n",
              "    }\n",
              "</style>\n",
              "<table border=\"1\" class=\"dataframe\">\n",
              "  <thead>\n",
              "    <tr style=\"text-align: right;\">\n",
              "      <th></th>\n",
              "      <th>id</th>\n",
              "      <th>uuid</th>\n",
              "      <th>name</th>\n",
              "      <th>exercise_base</th>\n",
              "      <th>status</th>\n",
              "      <th>description</th>\n",
              "      <th>creation_date</th>\n",
              "      <th>category</th>\n",
              "      <th>equipment/0</th>\n",
              "      <th>language</th>\n",
              "      <th>...</th>\n",
              "      <th>muscles/0</th>\n",
              "      <th>muscles/1</th>\n",
              "      <th>muscles_secondary /0</th>\n",
              "      <th>license_ author</th>\n",
              "      <th>exercise_base</th>\n",
              "      <th>equipment/1</th>\n",
              "      <th>u uid</th>\n",
              "      <th>muscles /0</th>\n",
              "      <th>nam e</th>\n",
              "      <th>index_col</th>\n",
              "    </tr>\n",
              "  </thead>\n",
              "  <tbody>\n",
              "    <tr>\n",
              "      <th>0</th>\n",
              "      <td>346.0</td>\n",
              "      <td>c789d643-150a-4ac7-97ef-84643c6419bf</td>\n",
              "      <td>3 Handed Kettlebell Swing</td>\n",
              "      <td>10.0</td>\n",
              "      <td>3.0</td>\n",
              "      <td>&lt;p&gt;Two Handed Russian Style Kettlebell Swing&lt;/p&gt;</td>\n",
              "      <td>2016-08 -03</td>\n",
              "      <td>11.0</td>\n",
              "      <td>11.0</td>\n",
              "      <td>3.0</td>\n",
              "      <td>...</td>\n",
              "      <td>NaN</td>\n",
              "      <td>NaN</td>\n",
              "      <td>NaN</td>\n",
              "      <td>NaN</td>\n",
              "      <td>NaN</td>\n",
              "      <td>NaN</td>\n",
              "      <td>NaN</td>\n",
              "      <td>NaN</td>\n",
              "      <td>NaN</td>\n",
              "      <td>0</td>\n",
              "    </tr>\n",
              "    <tr>\n",
              "      <th>1</th>\n",
              "      <td>175.0</td>\n",
              "      <td>99882bdd-43d7-4c3b-82ed-9c187d0455b7</td>\n",
              "      <td>Abductor Machine</td>\n",
              "      <td>13.0</td>\n",
              "      <td>NaN</td>\n",
              "      <td>&lt;ul&gt;\\r\\n&lt;li&gt;Put in an upright position with yo...</td>\n",
              "      <td>2014-07-19</td>\n",
              "      <td>10.0</td>\n",
              "      <td>NaN</td>\n",
              "      <td>2.0</td>\n",
              "      <td>...</td>\n",
              "      <td>NaN</td>\n",
              "      <td>NaN</td>\n",
              "      <td>NaN</td>\n",
              "      <td>NaN</td>\n",
              "      <td>NaN</td>\n",
              "      <td>NaN</td>\n",
              "      <td>NaN</td>\n",
              "      <td>NaN</td>\n",
              "      <td>NaN</td>\n",
              "      <td>1</td>\n",
              "    </tr>\n",
              "    <tr>\n",
              "      <th>2</th>\n",
              "      <td>224.0</td>\n",
              "      <td>e57d0a17-b1b8-427d-991e-97c530c7db6a</td>\n",
              "      <td>Adductor machine</td>\n",
              "      <td>14.0</td>\n",
              "      <td>3.0</td>\n",
              "      <td>&lt;p&gt;Thigh inside! &lt;/p&gt;</td>\n",
              "      <td>2015-02-26</td>\n",
              "      <td>10.0</td>\n",
              "      <td>NaN</td>\n",
              "      <td>2.0</td>\n",
              "      <td>...</td>\n",
              "      <td>NaN</td>\n",
              "      <td>NaN</td>\n",
              "      <td>NaN</td>\n",
              "      <td>NaN</td>\n",
              "      <td>NaN</td>\n",
              "      <td>NaN</td>\n",
              "      <td>NaN</td>\n",
              "      <td>NaN</td>\n",
              "      <td>NaN</td>\n",
              "      <td>2</td>\n",
              "    </tr>\n",
              "    <tr>\n",
              "      <th>3</th>\n",
              "      <td>229.0</td>\n",
              "      <td>881bff63-6798-4ffc-a818-b2a1ccfec0f7</td>\n",
              "      <td>Arnold Press</td>\n",
              "      <td>21.0</td>\n",
              "      <td>3.0</td>\n",
              "      <td>&lt;p&gt;Hold two dumbbells, palms in in front of ch...</td>\n",
              "      <td>2015-03-09</td>\n",
              "      <td>14.0</td>\n",
              "      <td>4.0</td>\n",
              "      <td>2.0</td>\n",
              "      <td>...</td>\n",
              "      <td>NaN</td>\n",
              "      <td>NaN</td>\n",
              "      <td>NaN</td>\n",
              "      <td>NaN</td>\n",
              "      <td>NaN</td>\n",
              "      <td>NaN</td>\n",
              "      <td>NaN</td>\n",
              "      <td>NaN</td>\n",
              "      <td>NaN</td>\n",
              "      <td>3</td>\n",
              "    </tr>\n",
              "    <tr>\n",
              "      <th>4</th>\n",
              "      <td>228.0</td>\n",
              "      <td>54ca25b3-61d9-4f72-bfdb-492b83484ff5</td>\n",
              "      <td>Arnold Shoulder Press</td>\n",
              "      <td>21.0</td>\n",
              "      <td>3.0</td>\n",
              "      <td>&lt;p &gt;Very common shoulder exercise.&lt;/p&gt;\\r\\n&lt;p&gt; ...</td>\n",
              "      <td>NaN</td>\n",
              "      <td>14.0</td>\n",
              "      <td>4.0</td>\n",
              "      <td>3.0</td>\n",
              "      <td>...</td>\n",
              "      <td>NaN</td>\n",
              "      <td>NaN</td>\n",
              "      <td>NaN</td>\n",
              "      <td>NaN</td>\n",
              "      <td>NaN</td>\n",
              "      <td>NaN</td>\n",
              "      <td>NaN</td>\n",
              "      <td>NaN</td>\n",
              "      <td>NaN</td>\n",
              "      <td>4</td>\n",
              "    </tr>\n",
              "  </tbody>\n",
              "</table>\n",
              "<p>5 rows × 80 columns</p>\n",
              "</div>\n",
              "      <button class=\"colab-df-convert\" onclick=\"convertToInteractive('df-799555ac-6e9c-4cda-97a5-ec6459f1b9ba')\"\n",
              "              title=\"Convert this dataframe to an interactive table.\"\n",
              "              style=\"display:none;\">\n",
              "        \n",
              "  <svg xmlns=\"http://www.w3.org/2000/svg\" height=\"24px\"viewBox=\"0 0 24 24\"\n",
              "       width=\"24px\">\n",
              "    <path d=\"M0 0h24v24H0V0z\" fill=\"none\"/>\n",
              "    <path d=\"M18.56 5.44l.94 2.06.94-2.06 2.06-.94-2.06-.94-.94-2.06-.94 2.06-2.06.94zm-11 1L8.5 8.5l.94-2.06 2.06-.94-2.06-.94L8.5 2.5l-.94 2.06-2.06.94zm10 10l.94 2.06.94-2.06 2.06-.94-2.06-.94-.94-2.06-.94 2.06-2.06.94z\"/><path d=\"M17.41 7.96l-1.37-1.37c-.4-.4-.92-.59-1.43-.59-.52 0-1.04.2-1.43.59L10.3 9.45l-7.72 7.72c-.78.78-.78 2.05 0 2.83L4 21.41c.39.39.9.59 1.41.59.51 0 1.02-.2 1.41-.59l7.78-7.78 2.81-2.81c.8-.78.8-2.07 0-2.86zM5.41 20L4 18.59l7.72-7.72 1.47 1.35L5.41 20z\"/>\n",
              "  </svg>\n",
              "      </button>\n",
              "      \n",
              "  <style>\n",
              "    .colab-df-container {\n",
              "      display:flex;\n",
              "      flex-wrap:wrap;\n",
              "      gap: 12px;\n",
              "    }\n",
              "\n",
              "    .colab-df-convert {\n",
              "      background-color: #E8F0FE;\n",
              "      border: none;\n",
              "      border-radius: 50%;\n",
              "      cursor: pointer;\n",
              "      display: none;\n",
              "      fill: #1967D2;\n",
              "      height: 32px;\n",
              "      padding: 0 0 0 0;\n",
              "      width: 32px;\n",
              "    }\n",
              "\n",
              "    .colab-df-convert:hover {\n",
              "      background-color: #E2EBFA;\n",
              "      box-shadow: 0px 1px 2px rgba(60, 64, 67, 0.3), 0px 1px 3px 1px rgba(60, 64, 67, 0.15);\n",
              "      fill: #174EA6;\n",
              "    }\n",
              "\n",
              "    [theme=dark] .colab-df-convert {\n",
              "      background-color: #3B4455;\n",
              "      fill: #D2E3FC;\n",
              "    }\n",
              "\n",
              "    [theme=dark] .colab-df-convert:hover {\n",
              "      background-color: #434B5C;\n",
              "      box-shadow: 0px 1px 3px 1px rgba(0, 0, 0, 0.15);\n",
              "      filter: drop-shadow(0px 1px 2px rgba(0, 0, 0, 0.3));\n",
              "      fill: #FFFFFF;\n",
              "    }\n",
              "  </style>\n",
              "\n",
              "      <script>\n",
              "        const buttonEl =\n",
              "          document.querySelector('#df-799555ac-6e9c-4cda-97a5-ec6459f1b9ba button.colab-df-convert');\n",
              "        buttonEl.style.display =\n",
              "          google.colab.kernel.accessAllowed ? 'block' : 'none';\n",
              "\n",
              "        async function convertToInteractive(key) {\n",
              "          const element = document.querySelector('#df-799555ac-6e9c-4cda-97a5-ec6459f1b9ba');\n",
              "          const dataTable =\n",
              "            await google.colab.kernel.invokeFunction('convertToInteractive',\n",
              "                                                     [key], {});\n",
              "          if (!dataTable) return;\n",
              "\n",
              "          const docLinkHtml = 'Like what you see? Visit the ' +\n",
              "            '<a target=\"_blank\" href=https://colab.research.google.com/notebooks/data_table.ipynb>data table notebook</a>'\n",
              "            + ' to learn more about interactive tables.';\n",
              "          element.innerHTML = '';\n",
              "          dataTable['output_type'] = 'display_data';\n",
              "          await google.colab.output.renderOutput(dataTable, element);\n",
              "          const docLink = document.createElement('div');\n",
              "          docLink.innerHTML = docLinkHtml;\n",
              "          element.appendChild(docLink);\n",
              "        }\n",
              "      </script>\n",
              "    </div>\n",
              "  </div>\n",
              "  "
            ]
          },
          "metadata": {},
          "execution_count": 38
        }
      ],
      "source": [
        "# Printing the first 5 rows of the dataframe\n",
        "exercise_data.head()"
      ]
    },
    {
      "cell_type": "code",
      "execution_count": 39,
      "metadata": {
        "colab": {
          "base_uri": "https://localhost:8080/"
        },
        "id": "Qrtr0oQbIjwF",
        "outputId": "ebdc9a2e-c2d6-48cb-a538-6df43b9bccbb"
      },
      "outputs": [
        {
          "output_type": "execute_result",
          "data": {
            "text/plain": [
              "(397, 80)"
            ]
          },
          "metadata": {},
          "execution_count": 39
        }
      ],
      "source": [
        "# Number of rows and columns in the data frame\n",
        "exercise_data.shape"
      ]
    },
    {
      "cell_type": "code",
      "execution_count": 40,
      "metadata": {
        "colab": {
          "base_uri": "https://localhost:8080/"
        },
        "id": "hunvyruUJhVq",
        "outputId": "5f1089b0-7be2-4a79-dbef-f7cf55e76e0a"
      },
      "outputs": [
        {
          "output_type": "stream",
          "name": "stdout",
          "text": [
            "['name', 'description', 'category']\n"
          ]
        }
      ],
      "source": [
        "# Selecting the relevant features for recommendation\n",
        "selected_features = ['name','description', 'category']\n",
        "print(selected_features)"
      ]
    },
    {
      "cell_type": "code",
      "execution_count": 41,
      "metadata": {
        "id": "CKIVE6OWKSYk"
      },
      "outputs": [],
      "source": [
        "# Replacing the null valuess with null string\n",
        "for feature in selected_features:\n",
        "  exercise_data[feature] = exercise_data[feature].fillna('')"
      ]
    },
    {
      "cell_type": "code",
      "execution_count": 42,
      "metadata": {
        "colab": {
          "base_uri": "https://localhost:8080/"
        },
        "id": "-AMjrRItLCO1",
        "outputId": "eef8eae2-0ec2-48a5-ef36-f37cb6113bc1"
      },
      "outputs": [
        {
          "output_type": "stream",
          "name": "stdout",
          "text": [
            "0      3 Handed Kettlebell Swing <p>Two Handed Russia...\n",
            "1      Abductor Machine <ul>\\r\\n<li>Put in an upright...\n",
            "2      Adductor machine <p>Thigh inside! </p> 0      ...\n",
            "3      Arnold Press <p>Hold two dumbbells, palms in i...\n",
            "4      Arnold Shoulder Press <p >Very common shoulder...\n",
            "                             ...                        \n",
            "392    Upright Row, on Multi Press <p>The movements a...\n",
            "393    Upright Row, SZ-bar <p>Stand straight, your fe...\n",
            "394    Upright Row w/ Dumbbells <p>Feet apart at shou...\n",
            "395    V-Bar Pulldown <p>Pulldowns using close grip v...\n",
            "396    Bending Lateral Raise <p>Sit on the edge of a ...\n",
            "Length: 397, dtype: object\n"
          ]
        }
      ],
      "source": [
        "# Combining all the selected features\n",
        "combined_features = exercise_data['name']+' '+exercise_data['description']+' '+str(exercise_data['category'])\n",
        "print(combined_features)"
      ]
    },
    {
      "cell_type": "markdown",
      "metadata": {
        "id": "JUDamYrslyfx"
      },
      "source": [
        "## Text vectorization/tokenization\n",
        "\n",
        "Tf–idf, short for term frequency–inverse document frequency, is a numerical statistic that is intended to reflect how important a word is to a document in a collection or corpus.\n",
        "\n",
        "Rajaraman, A., & Ullman, J. (2011). Data Mining. In Mining of Massive Datasets (pp. 1-17). Cambridge: Cambridge University Press. doi:10.1017/CBO9781139058452.002\n",
        "\n",
        "\n",
        "![1 TwckC6aDmXFKXc4fwd5zFA.png](data:image/png;base64,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)\n",
        "\n",
        "\n",
        "Source: https://medium.com/@sid321axn/fake-news-detection-using-nlp-and-machine-learning-in-python-wisdom-ml-6f548b0691a7"
      ]
    },
    {
      "cell_type": "code",
      "execution_count": 43,
      "metadata": {
        "id": "BfuttC_gLyfF"
      },
      "outputs": [],
      "source": [
        "# Converting the text data to feature vectors\n",
        "# SkLearn uses Term Frequency-Inverse Document Frequency (tf-idf)\n",
        "vectorizer = TfidfVectorizer()"
      ]
    },
    {
      "cell_type": "code",
      "execution_count": 44,
      "metadata": {
        "id": "Leo5rQskMKxL"
      },
      "outputs": [],
      "source": [
        "feature_vectors = vectorizer.fit_transform(combined_features)"
      ]
    },
    {
      "cell_type": "code",
      "execution_count": 45,
      "metadata": {
        "colab": {
          "base_uri": "https://localhost:8080/"
        },
        "id": "qNbeeMSnMb2F",
        "outputId": "71626498-2896-41c1-eb06-b9545e3a1e6c"
      },
      "outputs": [
        {
          "output_type": "stream",
          "name": "stdout",
          "text": [
            "  (0, 1415)\t0.04563298349309569\n",
            "  (0, 571)\t0.04563298349309569\n",
            "  (0, 20)\t0.04563298349309569\n",
            "  (0, 1185)\t0.04563298349309569\n",
            "  (0, 367)\t0.04563298349309569\n",
            "  (0, 1355)\t0.04563298349309569\n",
            "  (0, 19)\t0.04563298349309569\n",
            "  (0, 2)\t0.04563298349309569\n",
            "  (0, 18)\t0.04563298349309569\n",
            "  (0, 17)\t0.04563298349309569\n",
            "  (0, 16)\t0.04563298349309569\n",
            "  (0, 15)\t0.04563298349309569\n",
            "  (0, 3)\t0.27379790095857415\n",
            "  (0, 0)\t0.09126596698619138\n",
            "  (0, 1)\t0.04563298349309569\n",
            "  (0, 2037)\t0.2555519013348944\n",
            "  (0, 1791)\t0.26867969259834606\n",
            "  (0, 2179)\t0.16841377973013824\n",
            "  (0, 2060)\t0.3642168952872535\n",
            "  (0, 1094)\t0.5111038026697888\n",
            "  (0, 898)\t0.5743645503673445\n",
            "  (1, 1283)\t0.09723178713700202\n",
            "  (1, 1434)\t0.028144806064395057\n",
            "  (1, 1028)\t0.08025818754617835\n",
            "  (1, 2226)\t0.09096733655323731\n",
            "  :\t:\n",
            "  (396, 1203)\t0.09315065042487375\n",
            "  (396, 1401)\t0.08206006302736608\n",
            "  (396, 145)\t0.063827418808545\n",
            "  (396, 1425)\t0.05825160450414573\n",
            "  (396, 2125)\t0.18514892144914638\n",
            "  (396, 2090)\t0.20376915600132778\n",
            "  (396, 100)\t0.08675478852905914\n",
            "  (396, 193)\t0.05457833088392249\n",
            "  (396, 2368)\t0.23497630045792042\n",
            "  (396, 2348)\t0.04772258454006195\n",
            "  (396, 1415)\t0.026691155668646705\n",
            "  (396, 571)\t0.026691155668646705\n",
            "  (396, 20)\t0.026691155668646705\n",
            "  (396, 1185)\t0.026691155668646705\n",
            "  (396, 367)\t0.026691155668646705\n",
            "  (396, 1355)\t0.026691155668646705\n",
            "  (396, 19)\t0.026691155668646705\n",
            "  (396, 2)\t0.026691155668646705\n",
            "  (396, 18)\t0.026691155668646705\n",
            "  (396, 17)\t0.026691155668646705\n",
            "  (396, 16)\t0.026691155668646705\n",
            "  (396, 15)\t0.026691155668646705\n",
            "  (396, 3)\t0.16014693401188024\n",
            "  (396, 0)\t0.05338231133729341\n",
            "  (396, 1)\t0.026691155668646705\n"
          ]
        }
      ],
      "source": [
        "print(feature_vectors)"
      ]
    },
    {
      "cell_type": "markdown",
      "metadata": {
        "id": "qEGga5yPMnXO"
      },
      "source": [
        "# Cosine Similarity\n",
        "Cosine similarity measures the similarity between two vectors of an inner product space. It is measured by the cosine of the angle between two vectors and determines whether two vectors are pointing in roughly the same direction. It is often used to measure document similarity in text analysis.\n",
        "\n",
        "\n",
        "![1 mv617aAq7NHIXFXFa2xH4A.png](data:image/png;base64,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)\n",
        "Source: https://miro.medium.com/max/1104/1*mv617aAq7NHIXFXFa2xH4A.png"
      ]
    },
    {
      "cell_type": "code",
      "execution_count": 46,
      "metadata": {
        "id": "MsKYCs31MeB6"
      },
      "outputs": [],
      "source": [
        "# Getting the similarity scores using cosine similarity\n",
        "similarity = cosine_similarity(feature_vectors)"
      ]
    },
    {
      "cell_type": "code",
      "execution_count": 47,
      "metadata": {
        "colab": {
          "base_uri": "https://localhost:8080/"
        },
        "id": "46ha1PfTM-oQ",
        "outputId": "5f86dddf-3f32-442c-e4f3-99da5ea9ca55"
      },
      "outputs": [
        {
          "output_type": "stream",
          "name": "stdout",
          "text": [
            "[[1.         0.03736666 0.19649302 ... 0.17062991 0.17668471 0.06455384]\n",
            " [0.03736666 1.         0.0790438  ... 0.13237986 0.05982044 0.11811264]\n",
            " [0.19649302 0.0790438  1.         ... 0.30378667 0.31456653 0.11493059]\n",
            " ...\n",
            " [0.17062991 0.13237986 0.30378667 ... 1.         0.27316217 0.15305031]\n",
            " [0.17668471 0.05982044 0.31456653 ... 0.27316217 1.         0.10334453]\n",
            " [0.06455384 0.11811264 0.11493059 ... 0.15305031 0.10334453 1.        ]]\n"
          ]
        }
      ],
      "source": [
        "print(similarity)"
      ]
    },
    {
      "cell_type": "code",
      "execution_count": 48,
      "metadata": {
        "colab": {
          "base_uri": "https://localhost:8080/"
        },
        "id": "PLkvII-wM_5I",
        "outputId": "aaf5c9d9-063e-43bb-bb1e-e0bb5f5fa4af"
      },
      "outputs": [
        {
          "output_type": "stream",
          "name": "stdout",
          "text": [
            "(397, 397)\n"
          ]
        }
      ],
      "source": [
        "print(similarity.shape)"
      ]
    },
    {
      "cell_type": "markdown",
      "metadata": {
        "id": "EG3JItMUWeDD"
      },
      "source": [
        "### Getting the exercise name from the user"
      ]
    },
    {
      "cell_type": "code",
      "execution_count": 49,
      "metadata": {
        "colab": {
          "base_uri": "https://localhost:8080/"
        },
        "id": "bhSWJgqgNDo7",
        "outputId": "2341af29-aa23-40b8-9b5e-431bf9c00e0d"
      },
      "outputs": [
        {
          "name": "stdout",
          "output_type": "stream",
          "text": [
            " Enter your favourite exercise name : Abductor\n"
          ]
        }
      ],
      "source": [
        "# Getting the exercise name from the user\n",
        "exercise_name = input(' Enter your favourite exercise name : ')"
      ]
    },
    {
      "cell_type": "code",
      "execution_count": 50,
      "metadata": {
        "id": "VQ8Qvu8vNj4U"
      },
      "outputs": [],
      "source": [
        "# Creating a list with all the exercise names given in the dataset\n",
        "list_of_all_titles = exercise_data['name'].tolist()"
      ]
    },
    {
      "cell_type": "code",
      "execution_count": 51,
      "metadata": {
        "colab": {
          "base_uri": "https://localhost:8080/"
        },
        "id": "u1HTkBLIOBjf",
        "outputId": "beee2b17-88cd-4ca3-ebb7-97341b31b1e6"
      },
      "outputs": [
        {
          "output_type": "stream",
          "name": "stdout",
          "text": [
            "['Abductor Machine']\n"
          ]
        }
      ],
      "source": [
        "# Finding the close match for the exercise name given by the user\n",
        "find_close_match = difflib.get_close_matches(exercise_name, list_of_all_titles)\n",
        "print(find_close_match)"
      ]
    },
    {
      "cell_type": "code",
      "execution_count": 52,
      "metadata": {
        "colab": {
          "base_uri": "https://localhost:8080/"
        },
        "id": "CgiC-enuOfXx",
        "outputId": "10a27a81-9014-4004-e360-51857a4b822f"
      },
      "outputs": [
        {
          "output_type": "stream",
          "name": "stdout",
          "text": [
            "Abductor Machine\n"
          ]
        }
      ],
      "source": [
        "close_match = find_close_match[0]\n",
        "print(close_match)"
      ]
    },
    {
      "cell_type": "code",
      "execution_count": 53,
      "metadata": {
        "colab": {
          "base_uri": "https://localhost:8080/"
        },
        "id": "CNXJfY-FOw1I",
        "outputId": "42731589-3fb5-4c73-b387-00ffc3b472fe"
      },
      "outputs": [
        {
          "output_type": "stream",
          "name": "stdout",
          "text": [
            "1\n"
          ]
        }
      ],
      "source": [
        "# Finding the index of the exercise with title\n",
        "index_of_the_exercise = int(exercise_data[exercise_data.name == close_match]['index_col'].values[0])\n",
        "print(index_of_the_exercise)"
      ]
    },
    {
      "cell_type": "code",
      "execution_count": 54,
      "metadata": {
        "colab": {
          "base_uri": "https://localhost:8080/"
        },
        "id": "dyUeQZpvPbkx",
        "outputId": "eebb07b1-c57b-43e8-8a4b-61352806aa58"
      },
      "outputs": [
        {
          "output_type": "stream",
          "name": "stdout",
          "text": [
            "[(0, 0.03736665599920726), (1, 1.0000000000000002), (2, 0.07904379611348282), (3, 0.13969362096470964), (4, 0.044004217591098356), (5, 0.3885525307597735), (6, 0.07647430237737933), (7, 0.08423942047764772), (8, 0.06297098310908562), (9, 0.12093767164018797), (10, 0.09154873174848936), (11, 0.18872676924398685), (12, 0.15556145864052315), (13, 0.15125408831106266), (14, 0.4094510524483673), (15, 0.12141232505237358), (16, 0.08482342158623857), (17, 0.1435592926178656), (18, 0.18489661679915645), (19, 0.04773464791409035), (20, 0.18803955244187134), (21, 0.08402767329978461), (22, 0.10093943204684526), (23, 0.09541267431373901), (24, 0.13207468042749174), (25, 0.14811812310052322), (26, 0.17339454069366847), (27, 0.1246880927400994), (28, 0.14018550553535014), (29, 0.1780477752097228), (30, 0.09943362040769478), (31, 0.09598605803603757), (32, 0.1484410293888601), (33, 0.13281368106031402), (34, 0.15258728760752932), (35, 0.14690768329196746), (36, 0.3905512224128835), (37, 0.14429878612171843), (38, 0.14622791970765325), (39, 0.08139936747002965), (40, 0.5366776550805822), (41, 0.10663254720987252), (42, 0.0807499354278733), (43, 0.13760256236882656), (44, 0.14394993376586057), (45, 0.1329525062976625), (46, 0.14206298342874496), (47, 0.1601153132524887), (48, 0.13499701984939388), (49, 0.12938809603032483), (50, 0.025374585455541356), (51, 0.03754771626744688), (52, 0.02187144639695911), (53, 0.022193438480587323), (54, 0.15766873763066291), (55, 0.07653440894789357), (56, 0.1609009587106561), (57, 0.5863703755232463), (58, 0.13180892319717313), (59, 0.15724235188475522), (60, 0.11305243365171197), (61, 0.12709298028508623), (62, 0.0844099210375531), (63, 0.08745570562070928), (64, 0.16403798979238998), (65, 0.17160101294000515), (66, 0.16363388788965894), (67, 0.15999252050915427), (68, 0.08372366516310693), (69, 0.08372366516310693), (70, 0.08647406048118093), (71, 0.5474323790844924), (72, 0.12443119809251095), (73, 0.12082575898568208), (74, 0.06932424545230624), (75, 0.12329773413997389), (76, 0.08904594064876314), (77, 0.0629264692708125), (78, 0.04916813136127535), (79, 0.1607882508443454), (80, 0.13999554682667956), (81, 0.14386748659976145), (82, 0.15316488563786282), (83, 0.028268766278497566), (84, 0.1234695898704656), (85, 0.019390187174780926), (86, 0.02494940279816352), (87, 0.029181541117923048), (88, 0.02818111787626395), (89, 0.018179367672945965), (90, 0.13079117430377005), (91, 0.15594171967379547), (92, 0.18762773600499216), (93, 0.030832901137885525), (94, 0.04918213467986947), (95, 0.1305107854040775), (96, 0.04828886415114026), (97, 0.14183711160083623), (98, 0.13085062442219475), (99, 0.14803924829974086), (100, 0.09441999705819898), (101, 0.06618128534015805), (102, 0.010414140465429865), (103, 0.09265125209984468), (104, 0.026232009683749148), (105, 0.1074243339112697), (106, 0.12069311228501861), (107, 0.13304388374644097), (108, 0.017719549059222676), (109, 0.02652005501667488), (110, 0.13739334899467254), (111, 0.05528431628962625), (112, 0.10588496261421688), (113, 0.09945874573817641), (114, 0.05888766611716835), (115, 0.07964534901712783), (116, 0.10183302745337723), (117, 0.15000817702777247), (118, 0.07471862025652402), (119, 0.09852765156657263), (120, 0.042700788626720686), (121, 0.016531031532854266), (122, 0.025016030682447208), (123, 0.03941733129004976), (124, 0.5177232792094153), (125, 0.1318087448747747), (126, 0.03104631335469562), (127, 0.020444250700328747), (128, 0.02018891364691444), (129, 0.13518992254662665), (130, 0.09217554919594736), (131, 0.14577862491963403), (132, 0.14554655233026148), (133, 0.0934604121897258), (134, 0.017902982365440107), (135, 0.1485877580548883), (136, 0.15178725206871033), (137, 0.01787777832156606), (138, 0.01931057341414554), (139, 0.02226958037678902), (140, 0.020908343170947516), (141, 0.02353296044317305), (142, 0.02882512544579242), (143, 0.029576581848065164), (144, 0.13347205593019193), (145, 0.0637702002960577), (146, 0.07403430455285993), (147, 0.0758394761108264), (148, 0.014722123955841881), (149, 0.09928247566275233), (150, 0.026884290619909965), (151, 0.13408358938670947), (152, 0.07932225005316566), (153, 0.07932225005316566), (154, 0.01819279439340482), (155, 0.1776172272436581), (156, 0.023792542501463527), (157, 0.16414657902341487), (158, 0.03621391938867977), (159, 0.051606397794626564), (160, 0.02777503436547996), (161, 0.07672265572807124), (162, 0.08091625645812085), (163, 0.0749441717626877), (164, 0.09854518833506638), (165, 0.09530475240713801), (166, 0.049106863216221146), (167, 0.039215405935366224), (168, 0.17636125248017642), (169, 0.10913855137218383), (170, 0.12149712861551377), (171, 0.1288965038221669), (172, 0.11496619420749084), (173, 0.02573636404633159), (174, 0.08603072964334564), (175, 0.09216446715980785), (176, 0.5406829953324831), (177, 0.6456185592002085), (178, 0.1036799161838223), (179, 0.06908473996159048), (180, 0.07179944324603393), (181, 0.1335971916496204), (182, 0.10580781335620092), (183, 0.06483239148260302), (184, 0.11764039515981801), (185, 0.0850915714587749), (186, 0.04911775592144356), (187, 0.0514948999081184), (188, 0.08143210274942139), (189, 0.14779559917442625), (190, 0.151396346813372), (191, 0.10730908751907757), (192, 0.021875405002358662), (193, 0.09768237349421481), (194, 0.10650679283452122), (195, 0.5891161767011923), (196, 0.18300441774890472), (197, 0.08690293966700526), (198, 0.1332126268112759), (199, 0.1631556714521069), (200, 0.12098591495031141), (201, 0.08701409990704816), (202, 0.07037467452627896), (203, 0.08383267099788033), (204, 0.7124922825211963), (205, 0.06501460245300555), (206, 0.06826303585971154), (207, 0.728207690914048), (208, 0.1444420947050752), (209, 0.11429357299334059), (210, 0.10346607691457424), (211, 0.12263644154898036), (212, 0.15569836291179423), (213, 0.08150007275043779), (214, 0.08428062784238886), (215, 0.12089295576207139), (216, 0.12089295576207139), (217, 0.06873584874432938), (218, 0.09466627585203137), (219, 0.1838205512163328), (220, 0.15317047514427268), (221, 0.1048186503159997), (222, 0.1032897535486838), (223, 0.12207424919977461), (224, 0.17414761409128915), (225, 0.14603269035112537), (226, 0.12683914252674186), (227, 0.13377827522960473), (228, 0.11106101840907572), (229, 0.5613928525007099), (230, 0.08171881594127584), (231, 0.1576183810947217), (232, 0.15897684770839401), (233, 0.07123337207916422), (234, 0.16407107793679626), (235, 0.09609315898189463), (236, 0.02607248822303826), (237, 0.054045461800694784), (238, 0.0984611728704145), (239, 0.0984611728704145), (240, 0.1879846490715332), (241, 0.15117352816536586), (242, 0.13312754662561532), (243, 0.10518654305747988), (244, 0.1555134019256808), (245, 0.14532962492360557), (246, 0.15704165259356948), (247, 0.1668850376843036), (248, 0.11201017439823663), (249, 0.09609442024177885), (250, 0.10333502468072163), (251, 0.02194309002046044), (252, 0.08691728731023618), (253, 0.05136760959830586), (254, 0.07065622810082262), (255, 0.0880451588395391), (256, 0.022355431985449446), (257, 0.13434833739167365), (258, 0.0732847536799185), (259, 0.06281681788922867), (260, 0.059299031770372365), (261, 0.1108763123853003), (262, 0.058140491248262934), (263, 0.1623338093232099), (264, 0.01116425625994451), (265, 0.022210997886487848), (266, 0.12104266196856515), (267, 0.4884084079140504), (268, 0.09918244477066526), (269, 0.10650679283452122), (270, 0.09295706030065129), (271, 0.0965338523787131), (272, 0.15032071188734647), (273, 0.08345829276185415), (274, 0.09689528143793481), (275, 0.0814495429774798), (276, 0.08072706888147761), (277, 0.09876272676229797), (278, 0.01790946691163426), (279, 0.0635632469597909), (280, 0.05115132988735323), (281, 0.06213472838976693), (282, 0.049335653307818236), (283, 0.04881871812823207), (284, 0.04193123019400235), (285, 0.09741921995510226), (286, 0.08452074754984619), (287, 0.08319448533475225), (288, 0.14259031547204737), (289, 0.0850915714587749), (290, 0.024261299419921563), (291, 0.02860801756216109), (292, 0.07537735754760067), (293, 0.018065685051844072), (294, 0.030294931422949006), (295, 0.09450878193499343), (296, 0.13511937367732066), (297, 0.14249680138976067), (298, 0.13327637812198795), (299, 0.21137610452033595), (300, 0.014992150645731431), (301, 0.07077520854901213), (302, 0.04590032917964764), (303, 0.047870356414178104), (304, 0.1339885848502952), (305, 0.15631620598016033), (306, 0.15617600193432496), (307, 0.16574124939016946), (308, 0.6196962468801626), (309, 0.10228985889953908), (310, 0.11694678633744575), (311, 0.07725518532937008), (312, 0.0860865009588055), (313, 0.16705822226847258), (314, 0.14800067022853042), (315, 0.7085600947039605), (316, 0.15657925199904552), (317, 0.17875493854276406), (318, 0.1081176726881582), (319, 0.6487093118727016), (320, 0.051251507960236184), (321, 0.5907035144762433), (322, 0.1487543592601874), (323, 0.11595770026690978), (324, 0.13332623166620589), (325, 0.1277388920628158), (326, 0.12786260143558192), (327, 0.11217214157760705), (328, 0.14124492575095218), (329, 0.15051376895443275), (330, 0.0653435139003923), (331, 0.019945384079351654), (332, 0.020152308140748584), (333, 0.10071633602120787), (334, 0.09290837441543515), (335, 0.13920821609540682), (336, 0.11545732425962801), (337, 0.03397739845727557), (338, 0.09589908401890251), (339, 0.11847117848923948), (340, 0.06801660694285795), (341, 0.0783805041499043), (342, 0.1305473665714826), (343, 0.017736055172470885), (344, 0.08205212310286467), (345, 0.15003684107679813), (346, 0.1736014059277954), (347, 0.0506488987227785), (348, 0.14359349997488746), (349, 0.07565003463572076), (350, 0.5970497232258342), (351, 0.08085682127285121), (352, 0.012870945752049168), (353, 0.01895979290088384), (354, 0.09161634999533995), (355, 0.0903667643004936), (356, 0.1327431103531302), (357, 0.04370463780759919), (358, 0.630244699309224), (359, 0.14094487394615038), (360, 0.12896747740881329), (361, 0.48928315725936516), (362, 0.1364451579681923), (363, 0.029515587998131348), (364, 0.017510421913837556), (365, 0.14522278960140864), (366, 0.03929819440583225), (367, 0.675577644334511), (368, 0.12293803670859153), (369, 0.429905744296098), (370, 0.047660037166058176), (371, 0.07878355209656157), (372, 0.14671677014046075), (373, 0.08442064959517538), (374, 0.11116869930240865), (375, 0.12968200544590403), (376, 0.17314824133216897), (377, 0.15318114921801124), (378, 0.1770138343156151), (379, 0.10308931169552092), (380, 0.0524861419838348), (381, 0.05354246535362797), (382, 0.09506661825001722), (383, 0.09484390759367825), (384, 0.09606151448840956), (385, 0.037361215742356756), (386, 0.11247796107182767), (387, 0.15976736767123217), (388, 0.09324633071869144), (389, 0.12470466820920377), (390, 0.09917128942693726), (391, 0.04280517694421735), (392, 0.20431112498735635), (393, 0.19820894409383702), (394, 0.1323798597977299), (395, 0.05982044085007321), (396, 0.11811263540166772)]\n"
          ]
        }
      ],
      "source": [
        "# Getting a list of similar exercises\n",
        "similarity_score = list(enumerate(similarity[index_of_the_exercise]))\n",
        "print(similarity_score)"
      ]
    },
    {
      "cell_type": "code",
      "execution_count": 55,
      "metadata": {
        "colab": {
          "base_uri": "https://localhost:8080/"
        },
        "id": "SkXgFLePQkHL",
        "outputId": "78c5fd66-b0f4-4c8b-85f2-b925f0a81456"
      },
      "outputs": [
        {
          "output_type": "stream",
          "name": "stdout",
          "text": [
            "[(1, 1.0000000000000002), (207, 0.728207690914048), (204, 0.7124922825211963), (315, 0.7085600947039605), (367, 0.675577644334511), (319, 0.6487093118727016), (177, 0.6456185592002085), (358, 0.630244699309224), (308, 0.6196962468801626), (350, 0.5970497232258342), (321, 0.5907035144762433), (195, 0.5891161767011923), (57, 0.5863703755232463), (229, 0.5613928525007099), (71, 0.5474323790844924), (176, 0.5406829953324831), (40, 0.5366776550805822), (124, 0.5177232792094153), (361, 0.48928315725936516), (267, 0.4884084079140504), (369, 0.429905744296098), (14, 0.4094510524483673), (36, 0.3905512224128835), (5, 0.3885525307597735), (299, 0.21137610452033595), (392, 0.20431112498735635), (393, 0.19820894409383702), (11, 0.18872676924398685), (20, 0.18803955244187134), (240, 0.1879846490715332), (92, 0.18762773600499216), (18, 0.18489661679915645), (219, 0.1838205512163328), (196, 0.18300441774890472), (317, 0.17875493854276406), (29, 0.1780477752097228), (155, 0.1776172272436581), (378, 0.1770138343156151), (168, 0.17636125248017642), (224, 0.17414761409128915), (346, 0.1736014059277954), (26, 0.17339454069366847), (376, 0.17314824133216897), (65, 0.17160101294000515), (313, 0.16705822226847258), (247, 0.1668850376843036), (307, 0.16574124939016946), (157, 0.16414657902341487), (234, 0.16407107793679626), (64, 0.16403798979238998), (66, 0.16363388788965894), (199, 0.1631556714521069), (263, 0.1623338093232099), (56, 0.1609009587106561), (79, 0.1607882508443454), (47, 0.1601153132524887), (67, 0.15999252050915427), (387, 0.15976736767123217), (232, 0.15897684770839401), (54, 0.15766873763066291), (231, 0.1576183810947217), (59, 0.15724235188475522), (246, 0.15704165259356948), (316, 0.15657925199904552), (305, 0.15631620598016033), (306, 0.15617600193432496), (91, 0.15594171967379547), (212, 0.15569836291179423), (12, 0.15556145864052315), (244, 0.1555134019256808), (377, 0.15318114921801124), (220, 0.15317047514427268), (82, 0.15316488563786282), (34, 0.15258728760752932), (136, 0.15178725206871033), (190, 0.151396346813372), (13, 0.15125408831106266), (241, 0.15117352816536586), (329, 0.15051376895443275), (272, 0.15032071188734647), (345, 0.15003684107679813), (117, 0.15000817702777247), (322, 0.1487543592601874), (135, 0.1485877580548883), (32, 0.1484410293888601), (25, 0.14811812310052322), (99, 0.14803924829974086), (314, 0.14800067022853042), (189, 0.14779559917442625), (35, 0.14690768329196746), (372, 0.14671677014046075), (38, 0.14622791970765325), (225, 0.14603269035112537), (131, 0.14577862491963403), (132, 0.14554655233026148), (245, 0.14532962492360557), (365, 0.14522278960140864), (208, 0.1444420947050752), (37, 0.14429878612171843), (44, 0.14394993376586057), (81, 0.14386748659976145), (348, 0.14359349997488746), (17, 0.1435592926178656), (288, 0.14259031547204737), (297, 0.14249680138976067), (46, 0.14206298342874496), (97, 0.14183711160083623), (328, 0.14124492575095218), (359, 0.14094487394615038), (28, 0.14018550553535014), (80, 0.13999554682667956), (3, 0.13969362096470964), (335, 0.13920821609540682), (43, 0.13760256236882656), (110, 0.13739334899467254), (362, 0.1364451579681923), (129, 0.13518992254662665), (296, 0.13511937367732066), (48, 0.13499701984939388), (257, 0.13434833739167365), (151, 0.13408358938670947), (304, 0.1339885848502952), (227, 0.13377827522960473), (181, 0.1335971916496204), (144, 0.13347205593019193), (324, 0.13332623166620589), (298, 0.13327637812198795), (198, 0.1332126268112759), (242, 0.13312754662561532), (107, 0.13304388374644097), (45, 0.1329525062976625), (33, 0.13281368106031402), (356, 0.1327431103531302), (394, 0.1323798597977299), (24, 0.13207468042749174), (58, 0.13180892319717313), (125, 0.1318087448747747), (98, 0.13085062442219475), (90, 0.13079117430377005), (342, 0.1305473665714826), (95, 0.1305107854040775), (375, 0.12968200544590403), (49, 0.12938809603032483), (360, 0.12896747740881329), (171, 0.1288965038221669), (326, 0.12786260143558192), (325, 0.1277388920628158), (61, 0.12709298028508623), (226, 0.12683914252674186), (389, 0.12470466820920377), (27, 0.1246880927400994), (72, 0.12443119809251095), (84, 0.1234695898704656), (75, 0.12329773413997389), (368, 0.12293803670859153), (211, 0.12263644154898036), (223, 0.12207424919977461), (170, 0.12149712861551377), (15, 0.12141232505237358), (266, 0.12104266196856515), (200, 0.12098591495031141), (9, 0.12093767164018797), (215, 0.12089295576207139), (216, 0.12089295576207139), (73, 0.12082575898568208), (106, 0.12069311228501861), (339, 0.11847117848923948), (396, 0.11811263540166772), (184, 0.11764039515981801), (310, 0.11694678633744575), (323, 0.11595770026690978), (336, 0.11545732425962801), (172, 0.11496619420749084), (209, 0.11429357299334059), (60, 0.11305243365171197), (386, 0.11247796107182767), (327, 0.11217214157760705), (248, 0.11201017439823663), (374, 0.11116869930240865), (228, 0.11106101840907572), (261, 0.1108763123853003), (169, 0.10913855137218383), (318, 0.1081176726881582), (105, 0.1074243339112697), (191, 0.10730908751907757), (41, 0.10663254720987252), (194, 0.10650679283452122), (269, 0.10650679283452122), (112, 0.10588496261421688), (182, 0.10580781335620092), (243, 0.10518654305747988), (221, 0.1048186503159997), (178, 0.1036799161838223), (210, 0.10346607691457424), (250, 0.10333502468072163), (222, 0.1032897535486838), (379, 0.10308931169552092), (309, 0.10228985889953908), (116, 0.10183302745337723), (22, 0.10093943204684526), (333, 0.10071633602120787), (113, 0.09945874573817641), (30, 0.09943362040769478), (149, 0.09928247566275233), (268, 0.09918244477066526), (390, 0.09917128942693726), (277, 0.09876272676229797), (164, 0.09854518833506638), (119, 0.09852765156657263), (238, 0.0984611728704145), (239, 0.0984611728704145), (193, 0.09768237349421481), (285, 0.09741921995510226), (274, 0.09689528143793481), (271, 0.0965338523787131), (249, 0.09609442024177885), (235, 0.09609315898189463), (384, 0.09606151448840956), (31, 0.09598605803603757), (338, 0.09589908401890251), (23, 0.09541267431373901), (165, 0.09530475240713801), (382, 0.09506661825001722), (383, 0.09484390759367825), (218, 0.09466627585203137), (295, 0.09450878193499343), (100, 0.09441999705819898), (133, 0.0934604121897258), (388, 0.09324633071869144), (270, 0.09295706030065129), (334, 0.09290837441543515), (103, 0.09265125209984468), (130, 0.09217554919594736), (175, 0.09216446715980785), (354, 0.09161634999533995), (10, 0.09154873174848936), (355, 0.0903667643004936), (76, 0.08904594064876314), (255, 0.0880451588395391), (63, 0.08745570562070928), (201, 0.08701409990704816), (252, 0.08691728731023618), (197, 0.08690293966700526), (70, 0.08647406048118093), (312, 0.0860865009588055), (174, 0.08603072964334564), (185, 0.0850915714587749), (289, 0.0850915714587749), (16, 0.08482342158623857), (286, 0.08452074754984619), (373, 0.08442064959517538), (62, 0.0844099210375531), (214, 0.08428062784238886), (7, 0.08423942047764772), (21, 0.08402767329978461), (203, 0.08383267099788033), (68, 0.08372366516310693), (69, 0.08372366516310693), (273, 0.08345829276185415), (287, 0.08319448533475225), (344, 0.08205212310286467), (230, 0.08171881594127584), (213, 0.08150007275043779), (275, 0.0814495429774798), (188, 0.08143210274942139), (39, 0.08139936747002965), (162, 0.08091625645812085), (351, 0.08085682127285121), (42, 0.0807499354278733), (276, 0.08072706888147761), (115, 0.07964534901712783), (152, 0.07932225005316566), (153, 0.07932225005316566), (2, 0.07904379611348282), (371, 0.07878355209656157), (341, 0.0783805041499043), (311, 0.07725518532937008), (161, 0.07672265572807124), (55, 0.07653440894789357), (6, 0.07647430237737933), (147, 0.0758394761108264), (349, 0.07565003463572076), (292, 0.07537735754760067), (163, 0.0749441717626877), (118, 0.07471862025652402), (146, 0.07403430455285993), (258, 0.0732847536799185), (180, 0.07179944324603393), (233, 0.07123337207916422), (301, 0.07077520854901213), (254, 0.07065622810082262), (202, 0.07037467452627896), (74, 0.06932424545230624), (179, 0.06908473996159048), (217, 0.06873584874432938), (206, 0.06826303585971154), (340, 0.06801660694285795), (101, 0.06618128534015805), (330, 0.0653435139003923), (205, 0.06501460245300555), (183, 0.06483239148260302), (145, 0.0637702002960577), (279, 0.0635632469597909), (8, 0.06297098310908562), (77, 0.0629264692708125), (259, 0.06281681788922867), (281, 0.06213472838976693), (395, 0.05982044085007321), (260, 0.059299031770372365), (114, 0.05888766611716835), (262, 0.058140491248262934), (111, 0.05528431628962625), (237, 0.054045461800694784), (381, 0.05354246535362797), (380, 0.0524861419838348), (159, 0.051606397794626564), (187, 0.0514948999081184), (253, 0.05136760959830586), (320, 0.051251507960236184), (280, 0.05115132988735323), (347, 0.0506488987227785), (282, 0.049335653307818236), (94, 0.04918213467986947), (78, 0.04916813136127535), (186, 0.04911775592144356), (166, 0.049106863216221146), (283, 0.04881871812823207), (96, 0.04828886415114026), (303, 0.047870356414178104), (19, 0.04773464791409035), (370, 0.047660037166058176), (302, 0.04590032917964764), (4, 0.044004217591098356), (357, 0.04370463780759919), (391, 0.04280517694421735), (120, 0.042700788626720686), (284, 0.04193123019400235), (123, 0.03941733129004976), (366, 0.03929819440583225), (167, 0.039215405935366224), (51, 0.03754771626744688), (0, 0.03736665599920726), (385, 0.037361215742356756), (158, 0.03621391938867977), (337, 0.03397739845727557), (126, 0.03104631335469562), (93, 0.030832901137885525), (294, 0.030294931422949006), (143, 0.029576581848065164), (363, 0.029515587998131348), (87, 0.029181541117923048), (142, 0.02882512544579242), (291, 0.02860801756216109), (83, 0.028268766278497566), (88, 0.02818111787626395), (160, 0.02777503436547996), (150, 0.026884290619909965), (109, 0.02652005501667488), (104, 0.026232009683749148), (236, 0.02607248822303826), (173, 0.02573636404633159), (50, 0.025374585455541356), (122, 0.025016030682447208), (86, 0.02494940279816352), (290, 0.024261299419921563), (156, 0.023792542501463527), (141, 0.02353296044317305), (256, 0.022355431985449446), (139, 0.02226958037678902), (265, 0.022210997886487848), (53, 0.022193438480587323), (251, 0.02194309002046044), (192, 0.021875405002358662), (52, 0.02187144639695911), (140, 0.020908343170947516), (127, 0.020444250700328747), (128, 0.02018891364691444), (332, 0.020152308140748584), (331, 0.019945384079351654), (85, 0.019390187174780926), (138, 0.01931057341414554), (353, 0.01895979290088384), (154, 0.01819279439340482), (89, 0.018179367672945965), (293, 0.018065685051844072), (278, 0.01790946691163426), (134, 0.017902982365440107), (137, 0.01787777832156606), (343, 0.017736055172470885), (108, 0.017719549059222676), (364, 0.017510421913837556), (121, 0.016531031532854266), (300, 0.014992150645731431), (148, 0.014722123955841881), (352, 0.012870945752049168), (264, 0.01116425625994451), (102, 0.010414140465429865)]\n"
          ]
        }
      ],
      "source": [
        "# Sorting the exercises based on their similarity score\n",
        "sorted_similar_exercises = sorted(similarity_score, key = lambda x:x[1], reverse = True) \n",
        "print(sorted_similar_exercises)"
      ]
    },
    {
      "cell_type": "code",
      "execution_count": 56,
      "metadata": {
        "colab": {
          "base_uri": "https://localhost:8080/"
        },
        "id": "JseMqew-RW6Q",
        "outputId": "8dfbbe6e-82e6-4182-bde1-482ff0dc2f06"
      },
      "outputs": [
        {
          "output_type": "stream",
          "name": "stdout",
          "text": [
            "Exercises suggested for you : \n",
            "\n",
            "1 . Abductor Machine\n",
            "2 .  Lat pulldown with arms tucked into pulley\n",
            "3 . Lat Pulldown\n",
            "4 . Side raises\n",
            "5 . Thruster\n",
            "6 . Side upper body bends on the machine\n",
            "7 . Incline Dumbbell Row\n",
            "8 . Stiff-legged Deadlifts\n",
            "9 . KH Shoulder Press\n",
            "10 . Squats\n"
          ]
        }
      ],
      "source": [
        "# Print the name of similar exercises based on the index\n",
        "import math\n",
        "print('Exercises suggested for you : \\n')\n",
        "\n",
        "i = 1\n",
        "\n",
        "for exercise in sorted_similar_exercises:\n",
        "  index = exercise[0]\n",
        "  title_from_index = exercise_data[exercise_data.index==index]['name'].values[0]\n",
        "  if (i<11 and not isinstance(title_from_index, float) and title_from_index.strip() != ''):\n",
        "    print(i, '.',title_from_index)\n",
        "    i+=1"
      ]
    },
    {
      "cell_type": "markdown",
      "source": [
        "# Deploying the model"
      ],
      "metadata": {
        "id": "0okxsVgGtTES"
      }
    },
    {
      "cell_type": "markdown",
      "source": [
        "## Create a validation class\n",
        "\n",
        "Using pydantic, we can validate the input. This will be usefull later, when we want to get input from the user in the API.\n",
        "\n",
        "In this case, there is only one input. We force the input to be of the class String. We also show an example of a good input."
      ],
      "metadata": {
        "id": "JJxYHAv5pgyq"
      }
    },
    {
      "cell_type": "code",
      "execution_count": 57,
      "metadata": {
        "id": "dgOXLbsWUAGK"
      },
      "outputs": [],
      "source": [
        "class Workout(BaseModel):\n",
        "    exercise: str \n",
        "    class Config:\n",
        "        schema_extra = {\n",
        "            \"example\": {\n",
        "                \"exercise\": \"Abductor Machine\", \n",
        "            }\n",
        "        }"
      ]
    },
    {
      "cell_type": "markdown",
      "source": [
        "## Create a function that handles the user input and feeds it to the Model\n",
        "\n",
        "This function takes the user input that will be fed from the API, then it queries the ML model to find good recommendations. Those recommendations are then returned."
      ],
      "metadata": {
        "id": "sC_c4TYPp0UF"
      }
    },
    {
      "cell_type": "code",
      "execution_count": 82,
      "metadata": {
        "id": "QsbnN54_6IZ_"
      },
      "outputs": [],
      "source": [
        "def modelPredict(exerciseName : str):\n",
        "  # Get only the titles of the exercises\n",
        "  list_of_all_titles = exercise_data['name'].tolist()\n",
        "\n",
        "  # Find closest match to the user input\n",
        "  find_close_match = difflib.get_close_matches(exerciseName, list_of_all_titles)\n",
        "  close_match = find_close_match[0]\n",
        "  index_of_the_exercise = int(exercise_data[exercise_data.name == close_match]['index_col'].values[0])\n",
        "\n",
        "  # Get recommended exercises\n",
        "  similarity_score = list(enumerate(similarity[index_of_the_exercise]))\n",
        "  sorted_similar_exercises = sorted(similarity_score, key = lambda x:x[1], reverse = True) \n",
        "\n",
        "  # Return best matches\n",
        "  res = []\n",
        "  i = 1\n",
        "  for exercise in sorted_similar_exercises:\n",
        "    index = exercise[0]\n",
        "    title_from_index = exercise_data[exercise_data.index==index]['name'].values[0]\n",
        "    if (i<6 and not isinstance(title_from_index, float) and title_from_index.strip() != ''):\n",
        "      print(i, '.',title_from_index)\n",
        "      res.append(title_from_index)\n",
        "      i+=1\n",
        "  \n",
        "  return res"
      ]
    },
    {
      "cell_type": "code",
      "source": [
        "modelPredict(\"Abductor Machine\")"
      ],
      "metadata": {
        "colab": {
          "base_uri": "https://localhost:8080/"
        },
        "id": "eRv5JBPAyKlG",
        "outputId": "3640f5ab-2e7a-48fb-9d8f-59d9e7547084"
      },
      "execution_count": 83,
      "outputs": [
        {
          "output_type": "stream",
          "name": "stdout",
          "text": [
            "1 . Abductor Machine\n",
            "2 .  Lat pulldown with arms tucked into pulley\n",
            "3 . Lat Pulldown\n",
            "4 . Side raises\n",
            "5 . Thruster\n"
          ]
        },
        {
          "output_type": "execute_result",
          "data": {
            "text/plain": [
              "['Abductor Machine',\n",
              " ' Lat pulldown with arms tucked into pulley',\n",
              " 'Lat Pulldown',\n",
              " 'Side raises',\n",
              " 'Thruster']"
            ]
          },
          "metadata": {},
          "execution_count": 83
        }
      ]
    },
    {
      "cell_type": "markdown",
      "source": [
        "## Create API for deploying the model\n",
        "\n",
        "A simple API with fastAPI is created. This allows other users to access the model with just an HTTP call."
      ],
      "metadata": {
        "id": "ORSFWYeeooXN"
      }
    },
    {
      "cell_type": "code",
      "execution_count": 100,
      "metadata": {
        "id": "3hUE2RC0BlZp"
      },
      "outputs": [],
      "source": [
        "from fastapi import FastAPI\n",
        "import pickle\n",
        "\n",
        "app = FastAPI()\n",
        "\n",
        "@app.on_event(\"startup\")\n",
        "def load_model():\n",
        "    global model\n",
        "\n",
        "@app.get('/')\n",
        "def index():\n",
        "    return {'message': 'This is the homepage of the API '}\n",
        "\n",
        "\n",
        "@app.post('/predictOne')\n",
        "def get_prediction(data: Workout):\n",
        "    received = data.dict()\n",
        "    name = received['exercise']\n",
        "    pred_id = modelPredict(name)[0]\n",
        "    return {'prediction': pred_id}\n",
        "\n",
        "@app.post('/predict')\n",
        "def get_predictionNames(data: Workout):\n",
        "    received = data.dict()\n",
        "    name = received['exercise']\n",
        "    pred_exercises = modelPredict(name)\n",
        "    return {'prediction': pred_exercises}\n",
        "\n",
        "@app.post('/predictId')\n",
        "def get_predictionIds(data: Workout):\n",
        "    received = data.dict()\n",
        "    name = received['exercise']\n",
        "    pred_exercises = modelPredict(name)\n",
        "    pred_ids = []\n",
        "    for predName in pred_exercises:\n",
        "      id = int(exercise_data[exercise_data.name == predName]['id'].values[0])\n",
        "      if not isinstance(id, float):\n",
        "        pred_ids.append(id)\n",
        "\n",
        "    return {'prediction': pred_ids}"
      ]
    },
    {
      "cell_type": "code",
      "source": [
        "test = Workout(exercise=\"Chest\")\n",
        "get_predictionIds(test)"
      ],
      "metadata": {
        "colab": {
          "base_uri": "https://localhost:8080/"
        },
        "id": "-_E3on081h-r",
        "outputId": "9bb8ae61-9d68-453b-de9c-a1955cee1179"
      },
      "execution_count": 103,
      "outputs": [
        {
          "output_type": "stream",
          "name": "stdout",
          "text": [
            "1 . Chest Press\n",
            "2 . Shoulder Press, on Machine\n",
            "3 . Shoulder machine\n",
            "4 . Triceps Machine\n",
            "5 . Burpees\n"
          ]
        },
        {
          "output_type": "execute_result",
          "data": {
            "text/plain": [
              "{'prediction': [200, 153, 54, 140, 355]}"
            ]
          },
          "metadata": {},
          "execution_count": 103
        }
      ]
    },
    {
      "cell_type": "markdown",
      "source": [
        "## Run a server\n",
        "\n",
        "In order to get the API running we require to get an IP Address, to make it available for everyone we use an NgrokTunnel.\n",
        " https://ngrok.com/"
      ],
      "metadata": {
        "id": "B-t0WUiwo5ij"
      }
    },
    {
      "cell_type": "code",
      "source": [
        "  server = ColabCode(port=10000, code=False)"
      ],
      "metadata": {
        "id": "h9zQ3b3BuiFY"
      },
      "execution_count": 84,
      "outputs": []
    },
    {
      "cell_type": "code",
      "execution_count": null,
      "metadata": {
        "colab": {
          "base_uri": "https://localhost:8080/"
        },
        "id": "Bx4bZfT6CEuy",
        "outputId": "4d0be5c3-4163-4822-d604-25f25160e867"
      },
      "outputs": [
        {
          "output_type": "stream",
          "name": "stdout",
          "text": [
            "Public URL: NgrokTunnel: \"https://46a6-35-245-16-71.ngrok.io\" -> \"http://localhost:10000\"\n"
          ]
        },
        {
          "output_type": "stream",
          "name": "stderr",
          "text": [
            "INFO:     Started server process [385]\n",
            "INFO:     Waiting for application startup.\n",
            "INFO:     Application startup complete.\n",
            "INFO:     Uvicorn running on http://127.0.0.1:10000 (Press CTRL+C to quit)\n"
          ]
        },
        {
          "output_type": "stream",
          "name": "stdout",
          "text": [
            "INFO:     107.190.47.16:0 - \"GET / HTTP/1.1\" 200 OK\n",
            "1 . Chest Press\n",
            "2 . Shoulder Press, on Machine\n",
            "3 . Shoulder machine\n",
            "4 . Triceps Machine\n",
            "5 . Burpees\n",
            "INFO:     107.190.47.16:0 - \"POST /predictOne HTTP/1.1\" 200 OK\n",
            "1 . Chest Press\n",
            "2 . Shoulder Press, on Machine\n",
            "3 . Shoulder machine\n",
            "4 . Triceps Machine\n",
            "5 . Burpees\n",
            "INFO:     107.190.47.16:0 - \"POST /predict HTTP/1.1\" 200 OK\n",
            "1 . Chest Press\n",
            "2 . Shoulder Press, on Machine\n",
            "3 . Shoulder machine\n",
            "4 . Triceps Machine\n",
            "5 . Burpees\n",
            "INFO:     107.190.47.16:0 - \"POST /predict HTTP/1.1\" 200 OK\n",
            "1 . Chest Press\n",
            "2 . Shoulder Press, on Machine\n",
            "3 . Shoulder machine\n",
            "4 . Triceps Machine\n",
            "5 . Burpees\n",
            "INFO:     107.190.47.16:0 - \"POST /predictId HTTP/1.1\" 200 OK\n"
          ]
        }
      ],
      "source": [
        "  server.run_app(app=app)"
      ]
    }
  ],
  "metadata": {
    "colab": {
      "collapsed_sections": [],
      "name": "WorkoutBuddy Machine Learning with Python.ipynb",
      "provenance": []
    },
    "kernelspec": {
      "display_name": "Python 3",
      "name": "python3"
    },
    "language_info": {
      "name": "python"
    }
  },
  "nbformat": 4,
  "nbformat_minor": 0
}